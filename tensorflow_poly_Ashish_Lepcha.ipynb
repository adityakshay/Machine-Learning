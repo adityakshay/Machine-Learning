{
  "nbformat": 4,
  "nbformat_minor": 0,
  "metadata": {
    "colab": {
      "name": "tensorflow_poly.ipynb",
      "version": "0.3.2",
      "provenance": [],
      "include_colab_link": true
    },
    "kernelspec": {
      "name": "python3",
      "display_name": "Python 3"
    }
  },
  "cells": [
    {
      "cell_type": "markdown",
      "metadata": {
        "id": "view-in-github",
        "colab_type": "text"
      },
      "source": [
        "<a href=\"https://colab.research.google.com/github/adityakshay/Machine-Learning/blob/master/tensorflow_poly_Ashish_Lepcha.ipynb\" target=\"_parent\"><img src=\"https://colab.research.google.com/assets/colab-badge.svg\" alt=\"Open In Colab\"/></a>"
      ]
    },
    {
      "cell_type": "markdown",
      "metadata": {
        "id": "srgtUWFmpM5g",
        "colab_type": "text"
      },
      "source": [
        "# Regression"
      ]
    },
    {
      "cell_type": "code",
      "metadata": {
        "id": "zeEu7rh9pOvP",
        "colab_type": "code",
        "colab": {}
      },
      "source": [
        "import sklearn\n",
        "import tensorflow as tf\n",
        "import matplotlib.pyplot as plot"
      ],
      "execution_count": 0,
      "outputs": []
    },
    {
      "cell_type": "code",
      "metadata": {
        "id": "bDIFFSq1pT7E",
        "colab_type": "code",
        "colab": {}
      },
      "source": [
        "train_X = [[1],[2],[3],[4],[5],[6],[7],[8],[9] ]"
      ],
      "execution_count": 0,
      "outputs": []
    },
    {
      "cell_type": "code",
      "metadata": {
        "id": "6SNExlVdphwc",
        "colab_type": "code",
        "colab": {}
      },
      "source": [
        "#train_y = [1, 8, 27, 64, 125, 216, 343, 512, 729]\n",
        "#train_y = [1, 4, 9, 16, 25, 36, 49, 64, 81]\n",
        "#train_y=[1,16,81,256,625,1296,2401,4096,6561]\n",
        "train_y=[1,32,243,1024,3125,7776,16807,32768,59049]"
      ],
      "execution_count": 0,
      "outputs": []
    },
    {
      "cell_type": "code",
      "metadata": {
        "id": "48HFLRvNpo1Y",
        "colab_type": "code",
        "colab": {}
      },
      "source": [
        "from sklearn.linear_model import LinearRegression\n",
        "from  sklearn import tree "
      ],
      "execution_count": 0,
      "outputs": []
    },
    {
      "cell_type": "code",
      "metadata": {
        "id": "tv-UVOpppvEX",
        "colab_type": "code",
        "outputId": "7cfcd298-f05a-4c2e-9b3c-507da75c5b94",
        "colab": {
          "base_uri": "https://localhost:8080/",
          "height": 102
        }
      },
      "source": [
        "reg1 = LinearRegression()\n",
        "reg2=tree.DecisionTreeRegressor()\n",
        "reg1.fit(train_X, train_y)\n",
        "reg2.fit(train_X, train_y)"
      ],
      "execution_count": 5,
      "outputs": [
        {
          "output_type": "execute_result",
          "data": {
            "text/plain": [
              "DecisionTreeRegressor(criterion='mse', max_depth=None, max_features=None,\n",
              "                      max_leaf_nodes=None, min_impurity_decrease=0.0,\n",
              "                      min_impurity_split=None, min_samples_leaf=1,\n",
              "                      min_samples_split=2, min_weight_fraction_leaf=0.0,\n",
              "                      presort=False, random_state=None, splitter='best')"
            ]
          },
          "metadata": {
            "tags": []
          },
          "execution_count": 5
        }
      ]
    },
    {
      "cell_type": "code",
      "metadata": {
        "id": "sVX1VZfPp67L",
        "colab_type": "code",
        "outputId": "ff773cd6-f13a-4e48-959d-7fd06416da7d",
        "colab": {
          "base_uri": "https://localhost:8080/",
          "height": 286
        }
      },
      "source": [
        "plot.scatter(train_X, train_y, color='blue')\n",
        "plot.plot(train_X, reg1.predict(train_X), color='red')"
      ],
      "execution_count": 6,
      "outputs": [
        {
          "output_type": "execute_result",
          "data": {
            "text/plain": [
              "[<matplotlib.lines.Line2D at 0x7f373da4d1d0>]"
            ]
          },
          "metadata": {
            "tags": []
          },
          "execution_count": 6
        },
        {
          "output_type": "display_data",
          "data": {
            "image/png": "[encoded data removed]",
            "text/plain": [
              "<Figure size 432x288 with 1 Axes>"
            ]
          },
          "metadata": {
            "tags": []
          }
        }
      ]
    },
    {
      "cell_type": "code",
      "metadata": {
        "id": "aR0tYHcIqN0i",
        "colab_type": "code",
        "outputId": "2df4031e-ef8c-48c4-e6d7-d3673ca6a5c1",
        "colab": {
          "base_uri": "https://localhost:8080/",
          "height": 34
        }
      },
      "source": [
        "reg1.predict([[11]])"
      ],
      "execution_count": 7,
      "outputs": [
        {
          "output_type": "execute_result",
          "data": {
            "text/plain": [
              "array([50853.])"
            ]
          },
          "metadata": {
            "tags": []
          },
          "execution_count": 7
        }
      ]
    },
    {
      "cell_type": "code",
      "metadata": {
        "id": "zkAuRVLmqqsM",
        "colab_type": "code",
        "outputId": "3a867b41-24a4-4ca5-ab6b-d9e194c2a9c3",
        "colab": {
          "base_uri": "https://localhost:8080/",
          "height": 34
        }
      },
      "source": [
        "reg2.predict([[12]])"
      ],
      "execution_count": 8,
      "outputs": [
        {
          "output_type": "execute_result",
          "data": {
            "text/plain": [
              "array([59049.])"
            ]
          },
          "metadata": {
            "tags": []
          },
          "execution_count": 8
        }
      ]
    },
    {
      "cell_type": "code",
      "metadata": {
        "id": "zlONhvN_rfry",
        "colab_type": "code",
        "colab": {}
      },
      "source": [
        ""
      ],
      "execution_count": 0,
      "outputs": []
    },
    {
      "cell_type": "markdown",
      "metadata": {
        "id": "hsLNm_xOr1UC",
        "colab_type": "text"
      },
      "source": [
        "# Tensorflow based implementation"
      ]
    },
    {
      "cell_type": "code",
      "metadata": {
        "id": "JnGpPiJXr4lH",
        "colab_type": "code",
        "colab": {}
      },
      "source": [
        "X = tf.placeholder(tf.float32)\n",
        "Y = tf.placeholder(tf.float32)"
      ],
      "execution_count": 0,
      "outputs": []
    },
    {
      "cell_type": "code",
      "metadata": {
        "id": "W9zUTtEnsM1O",
        "colab_type": "code",
        "colab": {}
      },
      "source": [
        "# Create weights and bias\n",
        "W = tf.Variable(tf.random_normal(shape=(1,)), name='weight')\n",
        "b = tf.Variable(tf.random_normal(shape=(1,)), name='bias')"
      ],
      "execution_count": 0,
      "outputs": []
    },
    {
      "cell_type": "code",
      "metadata": {
        "id": "lgKaig4Csq0f",
        "colab_type": "code",
        "colab": {}
      },
      "source": [
        "# Define NN parameters\n",
        "# learning_rate = 0.0000001 ##### for power 4 polynomial\n",
        "# epochs =1000\n",
        "# display_step = 100\n",
        "learning_rate = 0.000000001\n",
        "epochs =10000\n",
        "display_step = 500"
      ],
      "execution_count": 0,
      "outputs": []
    },
    {
      "cell_type": "code",
      "metadata": {
        "id": "RP_Ogygas38O",
        "colab_type": "code",
        "colab": {}
      },
      "source": [
        "pred = tf.pow(X, W)"
      ],
      "execution_count": 0,
      "outputs": []
    },
    {
      "cell_type": "code",
      "metadata": {
        "id": "yJXdvpCvtCbu",
        "colab_type": "code",
        "colab": {}
      },
      "source": [
        "num_records= len(train_X)"
      ],
      "execution_count": 0,
      "outputs": []
    },
    {
      "cell_type": "code",
      "metadata": {
        "id": "37o8R10ztHel",
        "colab_type": "code",
        "colab": {}
      },
      "source": [
        "\n",
        "# Define Cost function\n",
        "#cost = tf.reduce_sum(tf.pow(pred-Y, 3))/(num_records)\n",
        "#cost = tf.reduce_sum(tf.pow(pred-Y, 2))/(num_records)\n",
        "cost = tf.reduce_sum(tf.pow(pred-Y, 2))/(num_records)\n",
        "\n",
        "\n",
        "\n",
        "# Have optimizer\n",
        "\n",
        "optimizer = tf.train.GradientDescentOptimizer(learning_rate).minimize(cost)"
      ],
      "execution_count": 0,
      "outputs": []
    },
    {
      "cell_type": "code",
      "metadata": {
        "id": "u5ISjvJctJCj",
        "colab_type": "code",
        "outputId": "eb061519-9ecf-403d-8266-ccd813af6100",
        "colab": {
          "base_uri": "https://localhost:8080/",
          "height": 1000
        }
      },
      "source": [
        "% pylab inline\n",
        "init = tf.global_variables_initializer()\n",
        "\n",
        "with tf.Session() as sess:\n",
        "  sess.run(init)\n",
        "  \n",
        "  for epoch in range(epochs):\n",
        "    \n",
        "    for (x, y ) in zip(train_X, train_y):\n",
        "      sess.run([optimizer,cost], feed_dict={X:x, Y:y})\n",
        "      \n",
        "    if(epoch+1) % display_step ==0:\n",
        "      c =  sess.run(cost, feed_dict={X: train_X, Y:train_y})\n",
        "      print('Epoch:', '%d' % (epoch+1), 'cost = ', '{:.5f}'.format(c))\n",
        "      print(sess.run(W))\n",
        "      \n",
        "  print('Completed model training')   \n",
        "  training_cost = sess.run(cost,  feed_dict={X: train_X, Y:train_y})\n",
        "  \n",
        "  print(' Cost post training= ',training_cost, 'W = ', sess.run(W))\n",
        "  #print(' Cost post training= ',training_cost, 'W = ', sess.run(W), 'bias = ', sess.run(b))\n",
        "  \n",
        "  plot(train_X, train_y, 'bo')\n",
        "  plot(train_X,  train_X ** sess.run(W) , 'r')\n",
        "  #plot(train_X, sess.run(W) * train_X + sess.run(b), 'r')\n",
        "  plot(train_X, reg1.predict(train_X), color='brown')\n",
        "  #plot(train_X, reg2.predict(train_X), color='green')\n",
        "  tf_weight = sess.run(W)\n",
        "  print( [[11]] ** sess.run(W))  \n",
        "  "
      ],
      "execution_count": 47,
      "outputs": [
        {
          "output_type": "stream",
          "text": [
            "Populating the interactive namespace from numpy and matplotlib\n",
            "Epoch: 500 cost =  4914019840.00000\n",
            "[0.1957013]\n",
            "Epoch: 1000 cost =  4913998336.00000\n",
            "[0.23972832]\n",
            "Epoch: 1500 cost =  4913970688.00000\n",
            "[0.28824243]\n",
            "Epoch: 2000 cost =  4913938944.00000\n",
            "[0.34226122]\n",
            "Epoch: 2500 cost =  4913898496.00000\n",
            "[0.4031942]\n",
            "Epoch: 3000 cost =  4913845760.00000\n",
            "[0.47308657]\n",
            "Epoch: 3500 cost =  4913774592.00000\n",
            "[0.55505246]\n",
            "Epoch: 4000 cost =  4913674240.00000\n",
            "[0.6541573]\n",
            "Epoch: 4500 cost =  4913517056.00000\n",
            "[0.7795314]\n",
            "Epoch: 5000 cost =  4913234432.00000\n",
            "[0.9504297]\n",
            "Epoch: 5500 cost =  4912554496.00000\n",
            "[1.2203733]\n",
            "Epoch: 6000 cost =  4907850240.00000\n",
            "[1.9148153]\n",
            "Epoch: 6500 cost =  6584532480.00000\n",
            "[5.]\n",
            "Epoch: 7000 cost =  6584532480.00000\n",
            "[5.]\n",
            "Epoch: 7500 cost =  6584532480.00000\n",
            "[5.]\n",
            "Epoch: 8000 cost =  6584532480.00000\n",
            "[5.]\n",
            "Epoch: 8500 cost =  6584532480.00000\n",
            "[5.]\n",
            "Epoch: 9000 cost =  6584532480.00000\n",
            "[5.]\n",
            "Epoch: 9500 cost =  6584532480.00000\n",
            "[5.]\n",
            "Epoch: 10000 cost =  6584532480.00000\n",
            "[5.]\n",
            "Completed model training\n",
            " Cost post training=  6584532500.0 W =  [5.]\n",
            "[[161051.]]\n"
          ],
          "name": "stdout"
        },
        {
          "output_type": "display_data",
          "data": {
            "image/png": "[encoded data removed]",
            "text/plain": [
              "<Figure size 432x288 with 1 Axes>"
            ]
          },
          "metadata": {
            "tags": []
          }
        }
      ]
    },
    {
      "cell_type": "code",
      "metadata": {
        "id": "juEFe4JWv0V6",
        "colab_type": "code",
        "outputId": "c9906415-ccdc-4f3e-d8cf-fd4391a8cc75",
        "colab": {
          "base_uri": "https://localhost:8080/",
          "height": 136
        }
      },
      "source": [
        "np.set_printoptions(suppress=True)\n",
        "\n",
        "#Let's find out which model accurately predicts square of 15\n",
        "test=[[15],[-5],[6],[16],[200]]\n",
        "print(f'OLS Model-{reg1.predict(test)}' )\n",
        "print(f'Decision Tree Model-{reg2.predict(test)}' )\n",
        "print(f'Tensorflow Model -{ (test) ** tf_weight}' )\n"
      ],
      "execution_count": 48,
      "outputs": [
        {
          "output_type": "stream",
          "text": [
            "OLS Model-[  75805.  -48955.   19663.   82043. 1229835.]\n",
            "Decision Tree Model-[59049.     1.  7776. 59049. 59049.]\n",
            "Tensorflow Model -[[ 7.593750e+05]\n",
            " [-3.125000e+03]\n",
            " [ 7.776000e+03]\n",
            " [ 1.048576e+06]\n",
            " [ 3.200000e+11]]\n"
          ],
          "name": "stdout"
        }
      ]
    },
    {
      "cell_type": "code",
      "metadata": {
        "id": "fCNAr1-tR1so",
        "colab_type": "code",
        "colab": {}
      },
      "source": [
        ""
      ],
      "execution_count": 0,
      "outputs": []
    }
  ]
}