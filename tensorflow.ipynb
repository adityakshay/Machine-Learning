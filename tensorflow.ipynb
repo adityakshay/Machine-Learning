{
  "nbformat": 4,
  "nbformat_minor": 0,
  "metadata": {
    "colab": {
      "name": "tensorflow.ipynb",
      "version": "0.3.2",
      "provenance": [],
      "include_colab_link": true
    },
    "kernelspec": {
      "name": "python3",
      "display_name": "Python 3"
    }
  },
  "cells": [
    {
      "cell_type": "markdown",
      "metadata": {
        "id": "view-in-github",
        "colab_type": "text"
      },
      "source": [
        "<a href=\"https://colab.research.google.com/github/adityakshay/Machine-Learning/blob/master/tensorflow.ipynb\" target=\"_parent\"><img src=\"https://colab.research.google.com/assets/colab-badge.svg\" alt=\"Open In Colab\"/></a>"
      ]
    },
    {
      "cell_type": "markdown",
      "metadata": {
        "id": "srgtUWFmpM5g",
        "colab_type": "text"
      },
      "source": [
        "# Regression"
      ]
    },
    {
      "cell_type": "code",
      "metadata": {
        "id": "zeEu7rh9pOvP",
        "colab_type": "code",
        "colab": {}
      },
      "source": [
        "import sklearn\n",
        "import tensorflow as tf\n",
        "import matplotlib.pyplot as plot"
      ],
      "execution_count": 0,
      "outputs": []
    },
    {
      "cell_type": "code",
      "metadata": {
        "id": "bDIFFSq1pT7E",
        "colab_type": "code",
        "colab": {}
      },
      "source": [
        "train_X = [[1],[2],[3],[4],[5],[6],[7],[8],[9] ]"
      ],
      "execution_count": 0,
      "outputs": []
    },
    {
      "cell_type": "code",
      "metadata": {
        "id": "6SNExlVdphwc",
        "colab_type": "code",
        "colab": {}
      },
      "source": [
        "train_y = [1,4,9,16,25,36,49,64,81]"
      ],
      "execution_count": 0,
      "outputs": []
    },
    {
      "cell_type": "code",
      "metadata": {
        "id": "48HFLRvNpo1Y",
        "colab_type": "code",
        "colab": {}
      },
      "source": [
        "from sklearn.linear_model import LinearRegression\n",
        "from  sklearn import tree "
      ],
      "execution_count": 0,
      "outputs": []
    },
    {
      "cell_type": "code",
      "metadata": {
        "id": "tv-UVOpppvEX",
        "colab_type": "code",
        "outputId": "2f494048-a86b-4549-d033-27fc28a4c1c6",
        "colab": {
          "base_uri": "https://localhost:8080/",
          "height": 102
        }
      },
      "source": [
        "reg1 = LinearRegression()\n",
        "reg2=tree.DecisionTreeRegressor()\n",
        "reg1.fit(train_X, train_y)\n",
        "reg2.fit(train_X, train_y)"
      ],
      "execution_count": 128,
      "outputs": [
        {
          "output_type": "execute_result",
          "data": {
            "text/plain": [
              "DecisionTreeRegressor(criterion='mse', max_depth=None, max_features=None,\n",
              "                      max_leaf_nodes=None, min_impurity_decrease=0.0,\n",
              "                      min_impurity_split=None, min_samples_leaf=1,\n",
              "                      min_samples_split=2, min_weight_fraction_leaf=0.0,\n",
              "                      presort=False, random_state=None, splitter='best')"
            ]
          },
          "metadata": {
            "tags": []
          },
          "execution_count": 128
        }
      ]
    },
    {
      "cell_type": "code",
      "metadata": {
        "id": "sVX1VZfPp67L",
        "colab_type": "code",
        "outputId": "830f79bf-aede-4736-c76e-2da875744e3f",
        "colab": {
          "base_uri": "https://localhost:8080/",
          "height": 286
        }
      },
      "source": [
        "plot.scatter(train_X, train_y, color='blue')\n",
        "plot.plot(train_X, reg1.predict(train_X), color='red')"
      ],
      "execution_count": 129,
      "outputs": [
        {
          "output_type": "execute_result",
          "data": {
            "text/plain": [
              "[<matplotlib.lines.Line2D at 0x7f789c4dca58>]"
            ]
          },
          "metadata": {
            "tags": []
          },
          "execution_count": 129
        },
        {
          "output_type": "display_data",
          "data": {
            "image/png": "[encoded data removed]",
            "text/plain": [
              "<Figure size 432x288 with 1 Axes>"
            ]
          },
          "metadata": {
            "tags": []
          }
        }
      ]
    },
    {
      "cell_type": "code",
      "metadata": {
        "id": "aR0tYHcIqN0i",
        "colab_type": "code",
        "outputId": "2cae31af-9acd-45b8-8c5d-39db03cdf9df",
        "colab": {
          "base_uri": "https://localhost:8080/",
          "height": 34
        }
      },
      "source": [
        "reg1.predict([[11]])"
      ],
      "execution_count": 130,
      "outputs": [
        {
          "output_type": "execute_result",
          "data": {
            "text/plain": [
              "array([91.66666667])"
            ]
          },
          "metadata": {
            "tags": []
          },
          "execution_count": 130
        }
      ]
    },
    {
      "cell_type": "code",
      "metadata": {
        "id": "zkAuRVLmqqsM",
        "colab_type": "code",
        "outputId": "0d9c4ea2-fe0e-4006-eb19-b6b662c4427e",
        "colab": {
          "base_uri": "https://localhost:8080/",
          "height": 34
        }
      },
      "source": [
        "reg2.predict([[12]])"
      ],
      "execution_count": 131,
      "outputs": [
        {
          "output_type": "execute_result",
          "data": {
            "text/plain": [
              "array([81.])"
            ]
          },
          "metadata": {
            "tags": []
          },
          "execution_count": 131
        }
      ]
    },
    {
      "cell_type": "code",
      "metadata": {
        "id": "zlONhvN_rfry",
        "colab_type": "code",
        "colab": {}
      },
      "source": [
        ""
      ],
      "execution_count": 0,
      "outputs": []
    },
    {
      "cell_type": "markdown",
      "metadata": {
        "id": "hsLNm_xOr1UC",
        "colab_type": "text"
      },
      "source": [
        "# Tensorflow based implementation"
      ]
    },
    {
      "cell_type": "code",
      "metadata": {
        "id": "JnGpPiJXr4lH",
        "colab_type": "code",
        "colab": {}
      },
      "source": [
        "X = tf.placeholder(tf.float32)\n",
        "Y = tf.placeholder(tf.float32)"
      ],
      "execution_count": 0,
      "outputs": []
    },
    {
      "cell_type": "code",
      "metadata": {
        "id": "W9zUTtEnsM1O",
        "colab_type": "code",
        "colab": {}
      },
      "source": [
        "# Create weights and bias\n",
        "W = tf.Variable(tf.random_normal(shape=(1,)), name='weight')\n",
        "b = tf.Variable(tf.random_normal(shape=(1,)), name='bias')"
      ],
      "execution_count": 0,
      "outputs": []
    },
    {
      "cell_type": "code",
      "metadata": {
        "id": "lgKaig4Csq0f",
        "colab_type": "code",
        "colab": {}
      },
      "source": [
        "# Define NN parameters\n",
        "learning_rate = 0.001\n",
        "epochs =100\n",
        "display_step = 20"
      ],
      "execution_count": 0,
      "outputs": []
    },
    {
      "cell_type": "code",
      "metadata": {
        "id": "RP_Ogygas38O",
        "colab_type": "code",
        "colab": {}
      },
      "source": [
        "pred = tf.pow(X, W)"
      ],
      "execution_count": 0,
      "outputs": []
    },
    {
      "cell_type": "code",
      "metadata": {
        "id": "yJXdvpCvtCbu",
        "colab_type": "code",
        "colab": {}
      },
      "source": [
        "num_records= len(train_X)"
      ],
      "execution_count": 0,
      "outputs": []
    },
    {
      "cell_type": "code",
      "metadata": {
        "id": "37o8R10ztHel",
        "colab_type": "code",
        "colab": {}
      },
      "source": [
        "# Define Cost function\n",
        "cost = tf.reduce_sum(tf.pow(pred-Y, 2))/(num_records)\n",
        "\n",
        "# Have optimizer\n",
        "\n",
        "optimizer = tf.train.GradientDescentOptimizer(learning_rate).minimize(cost)"
      ],
      "execution_count": 0,
      "outputs": []
    },
    {
      "cell_type": "code",
      "metadata": {
        "id": "u5ISjvJctJCj",
        "colab_type": "code",
        "outputId": "05252d2e-2143-4c0c-c4db-c8f4d9f935fe",
        "colab": {
          "base_uri": "https://localhost:8080/",
          "height": 473
        }
      },
      "source": [
        "% pylab inline\n",
        "init = tf.global_variables_initializer()\n",
        "\n",
        "with tf.Session() as sess:\n",
        "  sess.run(init)\n",
        "  \n",
        "  for epoch in range(epochs):\n",
        "    \n",
        "    for (x, y ) in zip(train_X, train_y):\n",
        "      sess.run(optimizer, feed_dict={X:x, Y:y})\n",
        "      \n",
        "    if(epoch+1) % display_step ==0:\n",
        "      c =  sess.run(cost, feed_dict={X: train_X, Y:train_y})\n",
        "      print('Epoch:', '%d' % (epoch+1), 'cost = ', '{:.5f}'.format(c))\n",
        "      \n",
        "  print('Completed model training')   \n",
        "  training_cost = sess.run(cost,  feed_dict={X: train_X, Y:train_y})\n",
        "  print(' Cost post training= ',training_cost, 'W = ', sess.run(W))\n",
        "  #print(' Cost post training= ',training_cost, 'W = ', sess.run(W), 'bias = ', sess.run(b))\n",
        "  \n",
        "  plot(train_X, train_y, 'bo')\n",
        "  plot(train_X,  train_X ** sess.run(W) , 'r')\n",
        "  #plot(train_X, sess.run(W) * train_X + sess.run(b), 'r')\n",
        "  plot(train_X, reg1.predict(train_X), color='brown')\n",
        "  #plot(train_X, reg2.predict(train_X), color='green')\n",
        "  tf_weight = sess.run(W)\n",
        "  print( [[11]] ** sess.run(W))  \n",
        "  "
      ],
      "execution_count": 138,
      "outputs": [
        {
          "output_type": "stream",
          "text": [
            "Populating the interactive namespace from numpy and matplotlib\n",
            "Epoch: 20 cost =  12603.26270\n"
          ],
          "name": "stdout"
        },
        {
          "output_type": "stream",
          "text": [
            "/usr/local/lib/python3.6/dist-packages/IPython/core/magics/pylab.py:161: UserWarning: pylab import has clobbered these variables: ['plot', 'test']\n",
            "`%matplotlib` prevents importing * from pylab and numpy\n",
            "  \"\\n`%matplotlib` prevents importing * from pylab and numpy\"\n"
          ],
          "name": "stderr"
        },
        {
          "output_type": "stream",
          "text": [
            "Epoch: 40 cost =  12615.87598\n",
            "Epoch: 60 cost =  12615.87598\n",
            "Epoch: 80 cost =  12615.87598\n",
            "Epoch: 100 cost =  12615.87598\n",
            "Completed model training\n",
            " Cost post training=  12615.876 W =  [1.9999956]\n",
            "[[120.99872025]]\n"
          ],
          "name": "stdout"
        },
        {
          "output_type": "display_data",
          "data": {
            "image/png": "[encoded data removed]",
            "text/plain": [
              "<Figure size 432x288 with 1 Axes>"
            ]
          },
          "metadata": {
            "tags": []
          }
        }
      ]
    },
    {
      "cell_type": "code",
      "metadata": {
        "id": "juEFe4JWv0V6",
        "colab_type": "code",
        "outputId": "40045ce6-fa13-4c16-d95e-cc25517546a4",
        "colab": {
          "base_uri": "https://localhost:8080/",
          "height": 136
        }
      },
      "source": [
        "np.set_printoptions(suppress=True)\n",
        "\n",
        "#Let's find out which model accurately predicts square of 15\n",
        "test=[[15],[-5],[6],[16],[200]]\n",
        "print(f'OLS Model-{reg1.predict(test)}' )\n",
        "print(f'Decision Tree Model-{reg2.predict(test)}' )\n",
        "print(f'Tensorflow Model -{ (np.abs(test)) ** tf_weight}' )\n"
      ],
      "execution_count": 139,
      "outputs": [
        {
          "output_type": "stream",
          "text": [
            "OLS Model-[ 131.66666667  -68.33333333   41.66666667  141.66666667 1981.66666667]\n",
            "Decision Tree Model-[81.  1. 36. 81. 81.]\n",
            "Tensorflow Model -[[  224.9973125 ]\n",
            " [   24.99982253]\n",
            " [   35.99971549]\n",
            " [  255.99686935]\n",
            " [39999.06523012]]\n"
          ],
          "name": "stdout"
        }
      ]
    }
  ]
}