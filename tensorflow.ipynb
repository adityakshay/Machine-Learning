{
  "nbformat": 4,
  "nbformat_minor": 0,
  "metadata": {
    "colab": {
      "name": "tensorflow.ipynb",
      "version": "0.3.2",
      "provenance": [],
      "include_colab_link": true
    },
    "kernelspec": {
      "name": "python3",
      "display_name": "Python 3"
    }
  },
  "cells": [
    {
      "cell_type": "markdown",
      "metadata": {
        "id": "view-in-github",
        "colab_type": "text"
      },
      "source": [
        "<a href=\"https://colab.research.google.com/github/adityakshay/Machine-Learning/blob/master/tensorflow.ipynb\" target=\"_parent\"><img src=\"https://colab.research.google.com/assets/colab-badge.svg\" alt=\"Open In Colab\"/></a>"
      ]
    },
    {
      "cell_type": "markdown",
      "metadata": {
        "id": "srgtUWFmpM5g",
        "colab_type": "text"
      },
      "source": [
        "# Regression"
      ]
    },
    {
      "cell_type": "code",
      "metadata": {
        "id": "zeEu7rh9pOvP",
        "colab_type": "code",
        "colab": {}
      },
      "source": [
        "import sklearn\n",
        "import tensorflow as tf\n",
        "import matplotlib.pyplot as plot"
      ],
      "execution_count": 0,
      "outputs": []
    },
    {
      "cell_type": "code",
      "metadata": {
        "id": "bDIFFSq1pT7E",
        "colab_type": "code",
        "colab": {}
      },
      "source": [
        "train_X = [[1],[2],[3],[4],[5],[6],[7],[8],[9] ]"
      ],
      "execution_count": 0,
      "outputs": []
    },
    {
      "cell_type": "code",
      "metadata": {
        "id": "6SNExlVdphwc",
        "colab_type": "code",
        "colab": {}
      },
      "source": [
        "train_y = [1,4,9,16,25,36,49,64,81]"
      ],
      "execution_count": 0,
      "outputs": []
    },
    {
      "cell_type": "code",
      "metadata": {
        "id": "48HFLRvNpo1Y",
        "colab_type": "code",
        "colab": {}
      },
      "source": [
        "from sklearn.linear_model import LinearRegression\n",
        "from  sklearn import tree "
      ],
      "execution_count": 0,
      "outputs": []
    },
    {
      "cell_type": "code",
      "metadata": {
        "id": "tv-UVOpppvEX",
        "colab_type": "code",
        "colab": {
          "base_uri": "https://localhost:8080/",
          "height": 102
        },
        "outputId": "64cb1dae-d43c-44b3-923f-b7eda5fbf3a3"
      },
      "source": [
        "reg1 = LinearRegression()\n",
        "reg2=tree.DecisionTreeRegressor()\n",
        "reg1.fit(train_X, train_y)\n",
        "reg2.fit(train_X, train_y)"
      ],
      "execution_count": 18,
      "outputs": [
        {
          "output_type": "execute_result",
          "data": {
            "text/plain": [
              "DecisionTreeRegressor(criterion='mse', max_depth=None, max_features=None,\n",
              "                      max_leaf_nodes=None, min_impurity_decrease=0.0,\n",
              "                      min_impurity_split=None, min_samples_leaf=1,\n",
              "                      min_samples_split=2, min_weight_fraction_leaf=0.0,\n",
              "                      presort=False, random_state=None, splitter='best')"
            ]
          },
          "metadata": {
            "tags": []
          },
          "execution_count": 18
        }
      ]
    },
    {
      "cell_type": "code",
      "metadata": {
        "id": "sVX1VZfPp67L",
        "colab_type": "code",
        "colab": {
          "base_uri": "https://localhost:8080/",
          "height": 286
        },
        "outputId": "39d10979-ca90-4598-d45f-5dbe5d994133"
      },
      "source": [
        "plot.scatter(train_X, train_y, color='blue')\n",
        "plot.plot(train_X, reg1.predict(train_X), color='red')"
      ],
      "execution_count": 10,
      "outputs": [
        {
          "output_type": "execute_result",
          "data": {
            "text/plain": [
              "[<matplotlib.lines.Line2D at 0x7fcbd9cc6438>]"
            ]
          },
          "metadata": {
            "tags": []
          },
          "execution_count": 10
        },
        {
          "output_type": "display_data",
          "data": {
            "image/png": "[encoded data removed]",
            "text/plain": [
              "<Figure size 432x288 with 1 Axes>"
            ]
          },
          "metadata": {
            "tags": []
          }
        }
      ]
    },
    {
      "cell_type": "code",
      "metadata": {
        "id": "aR0tYHcIqN0i",
        "colab_type": "code",
        "colab": {
          "base_uri": "https://localhost:8080/",
          "height": 34
        },
        "outputId": "4b14f24f-ee2e-4a1d-88f2-099591363998"
      },
      "source": [
        "reg1.predict([[11]])"
      ],
      "execution_count": 13,
      "outputs": [
        {
          "output_type": "execute_result",
          "data": {
            "text/plain": [
              "array([91.66666667])"
            ]
          },
          "metadata": {
            "tags": []
          },
          "execution_count": 13
        }
      ]
    },
    {
      "cell_type": "code",
      "metadata": {
        "id": "zkAuRVLmqqsM",
        "colab_type": "code",
        "colab": {
          "base_uri": "https://localhost:8080/",
          "height": 34
        },
        "outputId": "c70bddc3-65f1-4779-fa74-10ccf5c001a9"
      },
      "source": [
        "reg2.predict([[12]])"
      ],
      "execution_count": 22,
      "outputs": [
        {
          "output_type": "execute_result",
          "data": {
            "text/plain": [
              "array([81.])"
            ]
          },
          "metadata": {
            "tags": []
          },
          "execution_count": 22
        }
      ]
    },
    {
      "cell_type": "code",
      "metadata": {
        "id": "zlONhvN_rfry",
        "colab_type": "code",
        "colab": {}
      },
      "source": [
        ""
      ],
      "execution_count": 0,
      "outputs": []
    },
    {
      "cell_type": "markdown",
      "metadata": {
        "id": "hsLNm_xOr1UC",
        "colab_type": "text"
      },
      "source": [
        "# Tensorflow based implementation"
      ]
    },
    {
      "cell_type": "code",
      "metadata": {
        "id": "JnGpPiJXr4lH",
        "colab_type": "code",
        "colab": {}
      },
      "source": [
        "X = tf.placeholder(tf.float32)\n",
        "Y = tf.placeholder(tf.float32)"
      ],
      "execution_count": 0,
      "outputs": []
    },
    {
      "cell_type": "code",
      "metadata": {
        "id": "W9zUTtEnsM1O",
        "colab_type": "code",
        "colab": {}
      },
      "source": [
        "# Create weights and bias\n",
        "W = tf.Variable(tf.random_normal(shape=(1,)), name='weight')\n",
        "b = tf.Variable(tf.random_normal(shape=(1,)), name='bias')"
      ],
      "execution_count": 0,
      "outputs": []
    },
    {
      "cell_type": "code",
      "metadata": {
        "id": "lgKaig4Csq0f",
        "colab_type": "code",
        "colab": {}
      },
      "source": [
        "# Define NN parameters\n",
        "learning_rate = 0.01\n",
        "epochs =40\n",
        "display_step = 1"
      ],
      "execution_count": 0,
      "outputs": []
    },
    {
      "cell_type": "code",
      "metadata": {
        "id": "RP_Ogygas38O",
        "colab_type": "code",
        "colab": {}
      },
      "source": [
        "pred = tf.add(tf.multiply(X, W), b)"
      ],
      "execution_count": 0,
      "outputs": []
    },
    {
      "cell_type": "code",
      "metadata": {
        "id": "yJXdvpCvtCbu",
        "colab_type": "code",
        "colab": {}
      },
      "source": [
        "num_records= len(train_X)"
      ],
      "execution_count": 0,
      "outputs": []
    },
    {
      "cell_type": "code",
      "metadata": {
        "id": "37o8R10ztHel",
        "colab_type": "code",
        "colab": {}
      },
      "source": [
        "# Define Cost function\n",
        "cost = tf.reduce_sum(tf.pow(pred-Y, 2))/(num_records)\n",
        "\n",
        "# Have optimizer\n",
        "\n",
        "optimizer = tf.train.GradientDescentOptimizer(learning_rate).minimize(cost)"
      ],
      "execution_count": 0,
      "outputs": []
    },
    {
      "cell_type": "code",
      "metadata": {
        "id": "u5ISjvJctJCj",
        "colab_type": "code",
        "colab": {
          "base_uri": "https://localhost:8080/",
          "height": 1017
        },
        "outputId": "9363ea29-37b3-4cd5-abe4-96d71f89063f"
      },
      "source": [
        "% pylab inline\n",
        "init = tf.global_variables_initializer()\n",
        "\n",
        "with tf.Session() as sess:\n",
        "  sess.run(init)\n",
        "  \n",
        "  for epoch in range(epochs):\n",
        "    \n",
        "    for (x, y ) in zip(train_X, train_y):\n",
        "      sess.run(optimizer, feed_dict={X:x, Y:y})\n",
        "      \n",
        "    if(epoch+1) % display_step ==0:\n",
        "      c =  sess.run(cost, feed_dict={X: train_X, Y:train_y})\n",
        "      print('Epoch:', '%d' % (epoch+1), 'cost = ', '{:.5f}'.format(c))\n",
        "      \n",
        "  print('Completed model training')   \n",
        "  training_cost = sess.run(cost,  feed_dict={X: train_X, Y:train_y})\n",
        "  print(' Cost post training= ',training_cost, 'W = ', sess.run(W), 'bias = ', sess.run(b))\n",
        "  \n",
        "  plot(train_X, train_y, 'bo')\n",
        "  plot(train_X, sess.run(W) * train_X + sess.run(b), 'r')\n",
        "  plot(train_X, reg1.predict(train_X), color='brown')\n",
        "  plot(train_X, reg2.predict(train_X), color='green')\n",
        "\n",
        "  print(sess.run(W) * [[11]] + sess.run(b))  \n",
        "  "
      ],
      "execution_count": 77,
      "outputs": [
        {
          "output_type": "stream",
          "text": [
            "Populating the interactive namespace from numpy and matplotlib\n",
            "Epoch: 1 cost =  14089.25684\n",
            "Epoch: 2 cost =  14028.77051\n",
            "Epoch: 3 cost =  14006.77441\n",
            "Epoch: 4 cost =  13989.44824\n",
            "Epoch: 5 cost =  13976.38477\n",
            "Epoch: 6 cost =  13967.18848\n",
            "Epoch: 7 cost =  13961.48145\n",
            "Epoch: 8 cost =  13958.90430\n",
            "Epoch: 9 cost =  13959.15625\n",
            "Epoch: 10 cost =  13961.93555\n",
            "Epoch: 11 cost =  13966.98242\n",
            "Epoch: 12 cost =  13974.04102\n",
            "Epoch: 13 cost =  13982.89453\n",
            "Epoch: 14 cost =  13993.33008\n",
            "Epoch: 15 cost =  14005.16113\n",
            "Epoch: 16 cost =  14018.21191\n",
            "Epoch: 17 cost =  14032.32227\n",
            "Epoch: 18 cost =  14047.35352\n",
            "Epoch: 19 cost =  14063.17188\n",
            "Epoch: 20 cost =  14079.65332\n",
            "Epoch: 21 cost =  14096.69238\n",
            "Epoch: 22 cost =  14114.18164\n",
            "Epoch: 23 cost =  14132.03613\n",
            "Epoch: 24 cost =  14150.17480\n",
            "Epoch: 25 cost =  14168.52051\n",
            "Epoch: 26 cost =  14187.00488\n",
            "Epoch: 27 cost =  14205.57520\n",
            "Epoch: 28 cost =  14224.16504\n",
            "Epoch: 29 cost =  14242.73828\n",
            "Epoch: 30 cost =  14261.23828\n",
            "Epoch: 31 cost =  14279.63184\n",
            "Epoch: 32 cost =  14297.88477\n",
            "Epoch: 33 cost =  14315.96582\n",
            "Epoch: 34 cost =  14333.84668\n",
            "Epoch: 35 cost =  14351.50000\n",
            "Epoch: 36 cost =  14368.91406\n",
            "Epoch: 37 cost =  14386.06055\n",
            "Epoch: 38 cost =  14402.92773\n",
            "Epoch: 39 cost =  14419.50586\n",
            "Epoch: 40 cost =  14435.77930\n",
            "Completed model training\n",
            " Cost post training=  14435.779 W =  [11.206094] bias =  [-16.24532]\n",
            "[[107.0217123]]\n"
          ],
          "name": "stdout"
        },
        {
          "output_type": "display_data",
          "data": {
            "image/png": "[encoded data removed]",
            "text/plain": [
              "<Figure size 432x288 with 1 Axes>"
            ]
          },
          "metadata": {
            "tags": []
          }
        }
      ]
    },
    {
      "cell_type": "code",
      "metadata": {
        "id": "juEFe4JWv0V6",
        "colab_type": "code",
        "colab": {
          "base_uri": "https://localhost:8080/",
          "height": 170
        },
        "outputId": "179b9356-11b7-40b3-c784-9e6767d6f2c3"
      },
      "source": [
        "for (x, y ) in zip(train_X, train_y):\n",
        "  print(x,y)"
      ],
      "execution_count": 64,
      "outputs": [
        {
          "output_type": "stream",
          "text": [
            "[1] 1\n",
            "[2] 4\n",
            "[3] 9\n",
            "[4] 16\n",
            "[5] 25\n",
            "[6] 36\n",
            "[7] 49\n",
            "[8] 64\n",
            "[9] 81\n"
          ],
          "name": "stdout"
        }
      ]
    },
    {
      "cell_type": "code",
      "metadata": {
        "id": "4hJNt1uUwZNQ",
        "colab_type": "code",
        "colab": {}
      },
      "source": [
        ""
      ],
      "execution_count": 0,
      "outputs": []
    }
  ]
}