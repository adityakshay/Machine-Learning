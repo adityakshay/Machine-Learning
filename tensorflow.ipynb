{
  "nbformat": 4,
  "nbformat_minor": 0,
  "metadata": {
    "colab": {
      "name": "tensorflow.ipynb",
      "version": "0.3.2",
      "provenance": [],
      "include_colab_link": true
    },
    "kernelspec": {
      "name": "python3",
      "display_name": "Python 3"
    }
  },
  "cells": [
    {
      "cell_type": "markdown",
      "metadata": {
        "id": "view-in-github",
        "colab_type": "text"
      },
      "source": [
        "<a href=\"https://colab.research.google.com/github/adityakshay/Machine-Learning/blob/master/tensorflow.ipynb\" target=\"_parent\"><img src=\"https://colab.research.google.com/assets/colab-badge.svg\" alt=\"Open In Colab\"/></a>"
      ]
    },
    {
      "cell_type": "markdown",
      "metadata": {
        "id": "srgtUWFmpM5g",
        "colab_type": "text"
      },
      "source": [
        "# Regression"
      ]
    },
    {
      "cell_type": "code",
      "metadata": {
        "id": "zeEu7rh9pOvP",
        "colab_type": "code",
        "colab": {}
      },
      "source": [
        "import sklearn\n",
        "import tensorflow as tf\n",
        "import matplotlib.pyplot as plot"
      ],
      "execution_count": 0,
      "outputs": []
    },
    {
      "cell_type": "code",
      "metadata": {
        "id": "bDIFFSq1pT7E",
        "colab_type": "code",
        "colab": {}
      },
      "source": [
        "train_X = [[1],[2],[3],[4],[5],[6],[7],[8],[9] ]"
      ],
      "execution_count": 0,
      "outputs": []
    },
    {
      "cell_type": "code",
      "metadata": {
        "id": "6SNExlVdphwc",
        "colab_type": "code",
        "colab": {}
      },
      "source": [
        "train_y = [1, 8, 27, 64, 125, 216, 343, 512, 729]\n",
        "#train_y = [1, 4, 9, 16, 25, 36, 49, 64, 81]"
      ],
      "execution_count": 0,
      "outputs": []
    },
    {
      "cell_type": "code",
      "metadata": {
        "id": "48HFLRvNpo1Y",
        "colab_type": "code",
        "colab": {}
      },
      "source": [
        "from sklearn.linear_model import LinearRegression\n",
        "from  sklearn import tree "
      ],
      "execution_count": 0,
      "outputs": []
    },
    {
      "cell_type": "code",
      "metadata": {
        "id": "tv-UVOpppvEX",
        "colab_type": "code",
        "outputId": "ecfef966-820a-4920-a905-5357cb6ac9cc",
        "colab": {
          "base_uri": "https://localhost:8080/",
          "height": 102
        }
      },
      "source": [
        "reg1 = LinearRegression()\n",
        "reg2=tree.DecisionTreeRegressor()\n",
        "reg1.fit(train_X, train_y)\n",
        "reg2.fit(train_X, train_y)"
      ],
      "execution_count": 236,
      "outputs": [
        {
          "output_type": "execute_result",
          "data": {
            "text/plain": [
              "DecisionTreeRegressor(criterion='mse', max_depth=None, max_features=None,\n",
              "                      max_leaf_nodes=None, min_impurity_decrease=0.0,\n",
              "                      min_impurity_split=None, min_samples_leaf=1,\n",
              "                      min_samples_split=2, min_weight_fraction_leaf=0.0,\n",
              "                      presort=False, random_state=None, splitter='best')"
            ]
          },
          "metadata": {
            "tags": []
          },
          "execution_count": 236
        }
      ]
    },
    {
      "cell_type": "code",
      "metadata": {
        "id": "sVX1VZfPp67L",
        "colab_type": "code",
        "outputId": "656d3157-1cbd-425b-e015-b0e09e1f6ca9",
        "colab": {
          "base_uri": "https://localhost:8080/",
          "height": 286
        }
      },
      "source": [
        "plot.scatter(train_X, train_y, color='blue')\n",
        "plot.plot(train_X, reg1.predict(train_X), color='red')"
      ],
      "execution_count": 237,
      "outputs": [
        {
          "output_type": "execute_result",
          "data": {
            "text/plain": [
              "[<matplotlib.lines.Line2D at 0x7fe94700acf8>]"
            ]
          },
          "metadata": {
            "tags": []
          },
          "execution_count": 237
        },
        {
          "output_type": "display_data",
          "data": {
            "image/png": "[encoded data removed]",
            "text/plain": [
              "<Figure size 432x288 with 1 Axes>"
            ]
          },
          "metadata": {
            "tags": []
          }
        }
      ]
    },
    {
      "cell_type": "code",
      "metadata": {
        "id": "aR0tYHcIqN0i",
        "colab_type": "code",
        "outputId": "655e1a68-a4b3-4a8f-854d-35dcc8d5bccc",
        "colab": {
          "base_uri": "https://localhost:8080/",
          "height": 34
        }
      },
      "source": [
        "reg1.predict([[11]])"
      ],
      "execution_count": 238,
      "outputs": [
        {
          "output_type": "execute_result",
          "data": {
            "text/plain": [
              "array([745.8])"
            ]
          },
          "metadata": {
            "tags": []
          },
          "execution_count": 238
        }
      ]
    },
    {
      "cell_type": "code",
      "metadata": {
        "id": "zkAuRVLmqqsM",
        "colab_type": "code",
        "outputId": "037dfed0-42fc-47dd-b570-bb9a124940e4",
        "colab": {
          "base_uri": "https://localhost:8080/",
          "height": 34
        }
      },
      "source": [
        "reg2.predict([[12]])"
      ],
      "execution_count": 239,
      "outputs": [
        {
          "output_type": "execute_result",
          "data": {
            "text/plain": [
              "array([729.])"
            ]
          },
          "metadata": {
            "tags": []
          },
          "execution_count": 239
        }
      ]
    },
    {
      "cell_type": "code",
      "metadata": {
        "id": "zlONhvN_rfry",
        "colab_type": "code",
        "colab": {}
      },
      "source": [
        ""
      ],
      "execution_count": 0,
      "outputs": []
    },
    {
      "cell_type": "markdown",
      "metadata": {
        "id": "hsLNm_xOr1UC",
        "colab_type": "text"
      },
      "source": [
        "# Tensorflow based implementation"
      ]
    },
    {
      "cell_type": "code",
      "metadata": {
        "id": "JnGpPiJXr4lH",
        "colab_type": "code",
        "colab": {}
      },
      "source": [
        "X = tf.placeholder(tf.float32)\n",
        "Y = tf.placeholder(tf.float32)"
      ],
      "execution_count": 0,
      "outputs": []
    },
    {
      "cell_type": "code",
      "metadata": {
        "id": "W9zUTtEnsM1O",
        "colab_type": "code",
        "colab": {}
      },
      "source": [
        "# Create weights and bias\n",
        "W = tf.Variable(tf.random_normal(shape=(1,)), name='weight')\n",
        "b = tf.Variable(tf.random_normal(shape=(1,)), name='bias')"
      ],
      "execution_count": 0,
      "outputs": []
    },
    {
      "cell_type": "code",
      "metadata": {
        "id": "lgKaig4Csq0f",
        "colab_type": "code",
        "colab": {}
      },
      "source": [
        "# Define NN parameters\n",
        "learning_rate = 0.000001\n",
        "epochs =1000\n",
        "display_step = 100"
      ],
      "execution_count": 0,
      "outputs": []
    },
    {
      "cell_type": "code",
      "metadata": {
        "id": "RP_Ogygas38O",
        "colab_type": "code",
        "colab": {}
      },
      "source": [
        "pred = tf.pow(X, W)"
      ],
      "execution_count": 0,
      "outputs": []
    },
    {
      "cell_type": "code",
      "metadata": {
        "id": "yJXdvpCvtCbu",
        "colab_type": "code",
        "colab": {}
      },
      "source": [
        "num_records= len(train_X)"
      ],
      "execution_count": 0,
      "outputs": []
    },
    {
      "cell_type": "code",
      "metadata": {
        "id": "37o8R10ztHel",
        "colab_type": "code",
        "colab": {}
      },
      "source": [
        "# Define Cost function\n",
        "#cost = tf.reduce_sum(tf.pow(pred-Y, 3))/(num_records)\n",
        "cost = tf.reduce_sum(tf.pow(pred-Y, 2))/(num_records)\n",
        "\n",
        "# Have optimizer\n",
        "\n",
        "optimizer = tf.train.GradientDescentOptimizer(learning_rate).minimize(cost)"
      ],
      "execution_count": 0,
      "outputs": []
    },
    {
      "cell_type": "code",
      "metadata": {
        "id": "u5ISjvJctJCj",
        "colab_type": "code",
        "outputId": "2728cdc4-e6ba-47ab-a377-ea4e2b7bba20",
        "colab": {
          "base_uri": "https://localhost:8080/",
          "height": 677
        }
      },
      "source": [
        "% pylab inline\n",
        "init = tf.global_variables_initializer()\n",
        "\n",
        "with tf.Session() as sess:\n",
        "  sess.run(init)\n",
        "  \n",
        "  for epoch in range(epochs):\n",
        "    \n",
        "    for (x, y ) in zip(train_X, train_y):\n",
        "      sess.run([optimizer,cost], feed_dict={X:x, Y:y})\n",
        "      \n",
        "    if(epoch+1) % display_step ==0:\n",
        "      c =  sess.run(cost, feed_dict={X: train_X, Y:train_y})\n",
        "      print('Epoch:', '%d' % (epoch+1), 'cost = ', '{:.5f}'.format(c))\n",
        "      print(sess.run(W))\n",
        "      \n",
        "  print('Completed model training')   \n",
        "  training_cost = sess.run(cost,  feed_dict={X: train_X, Y:train_y})\n",
        "  \n",
        "  print(' Cost post training= ',training_cost, 'W = ', sess.run(W))\n",
        "  #print(' Cost post training= ',training_cost, 'W = ', sess.run(W), 'bias = ', sess.run(b))\n",
        "  \n",
        "  plot(train_X, train_y, 'bo')\n",
        "  plot(train_X,  train_X ** sess.run(W) , 'r')\n",
        "  #plot(train_X, sess.run(W) * train_X + sess.run(b), 'r')\n",
        "  plot(train_X, reg1.predict(train_X), color='brown')\n",
        "  #plot(train_X, reg2.predict(train_X), color='green')\n",
        "  tf_weight = sess.run(W)\n",
        "  print( [[11]] ** sess.run(W))  \n",
        "  "
      ],
      "execution_count": 329,
      "outputs": [
        {
          "output_type": "stream",
          "text": [
            "Populating the interactive namespace from numpy and matplotlib\n",
            "Epoch: 100 cost =  972828.68750\n",
            "[0.21957216]\n",
            "Epoch: 200 cost =  971217.81250\n",
            "[0.38409904]\n",
            "Epoch: 300 cost =  967668.12500\n",
            "[0.6331673]\n",
            "Epoch: 400 cost =  951884.87500\n",
            "[1.1632847]\n",
            "Epoch: 500 cost =  1045560.00000\n",
            "[3.]\n",
            "Epoch: 600 cost =  1045560.00000\n",
            "[3.]\n",
            "Epoch: 700 cost =  1045560.00000\n",
            "[3.]\n",
            "Epoch: 800 cost =  1045560.00000\n",
            "[3.]\n",
            "Epoch: 900 cost =  1045560.00000\n",
            "[3.]\n",
            "Epoch: 1000 cost =  1045560.00000\n",
            "[3.]\n",
            "Completed model training\n",
            " Cost post training=  1045560.0 W =  [3.]\n",
            "[[1331.]]\n"
          ],
          "name": "stdout"
        },
        {
          "output_type": "display_data",
          "data": {
            "image/png": "[encoded data removed]",
            "text/plain": [
              "<Figure size 432x288 with 1 Axes>"
            ]
          },
          "metadata": {
            "tags": []
          }
        }
      ]
    },
    {
      "cell_type": "code",
      "metadata": {
        "id": "juEFe4JWv0V6",
        "colab_type": "code",
        "outputId": "3510e37b-81a2-45b6-a45c-5a1fc8444329",
        "colab": {
          "base_uri": "https://localhost:8080/",
          "height": 136
        }
      },
      "source": [
        "np.set_printoptions(suppress=True)\n",
        "\n",
        "#Let's find out which model accurately predicts square of 15\n",
        "test=[[15],[-5],[6],[16],[200]]\n",
        "print(f'OLS Model-{reg1.predict(test)}' )\n",
        "print(f'Decision Tree Model-{reg2.predict(test)}' )\n",
        "print(f'Tensorflow Model -{ (test) ** tf_weight}' )\n"
      ],
      "execution_count": 331,
      "outputs": [
        {
          "output_type": "stream",
          "text": [
            "OLS Model-[ 1093.   -643.    311.8  1179.8 17151. ]\n",
            "Decision Tree Model-[729.   1. 216. 729. 729.]\n",
            "Tensorflow Model -[[   3375.]\n",
            " [   -125.]\n",
            " [    216.]\n",
            " [   4096.]\n",
            " [8000000.]]\n"
          ],
          "name": "stdout"
        }
      ]
    }
  ]
}