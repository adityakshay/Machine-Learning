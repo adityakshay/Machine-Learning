{
 "cells": [
  {
   "cell_type": "raw",
   "metadata": {},
   "source": [
    "Constraint satisfaction is a general problem solving technique for solving a class of combinatorial optimization problems by imposing limits on the values in the solution. Here's a practice formulation of classical example problem of n-queens as constraint satisfaction problems (CSPs), and then to explore using a powerful open source constraint satisfaction tool called Z3 from Microsoft Research to solve them. Practicing with these simple problems will help you to recognize real-world problems that can be posed as CSPs; some solvers even have specialized utilities for specific types of problem (vehicle routing, planning, scheduling, etc.).\n",
    "\n",
    "There are many different kinds of CSP solvers available for CSPs. Z3 is a \"Satisfiability Modulo Theories\" (SMT) solver, which means that unlike the backtracking and variable assignment heuristics, Z3 first converts CSPs to satisfiability problems then uses a boolean satisfiability (SAT) solver to determine feasibility. Z3 includes a number of efficient solver algorithms primarily developed to perform formal program verification, but it can also be used on general CSPs. Google's OR tools includes a CSP solver using backtracking with specialized subroutines for some common CP domains."
   ]
  },
  {
   "cell_type": "code",
   "execution_count": 1,
   "metadata": {},
   "outputs": [],
   "source": [
    "import z3"
   ]
  },
  {
   "cell_type": "code",
   "execution_count": 2,
   "metadata": {},
   "outputs": [],
   "source": [
    "from z3 import *"
   ]
  },
  {
   "cell_type": "code",
   "execution_count": 3,
   "metadata": {},
   "outputs": [],
   "source": [
    "from itertools import product"
   ]
  },
  {
   "cell_type": "code",
   "execution_count": 4,
   "metadata": {},
   "outputs": [],
   "source": [
    "nq_solver = Solver()"
   ]
  },
  {
   "cell_type": "code",
   "execution_count": 5,
   "metadata": {},
   "outputs": [],
   "source": [
    "import time\n",
    "from itertools import chain"
   ]
  },
  {
   "cell_type": "code",
   "execution_count": 12,
   "metadata": {},
   "outputs": [],
   "source": [
    "def Abs(x):\n",
    "    return If(x >= 0, x, -x)\n",
    "\n",
    "def nqueens(N):\n",
    "    nq_solver = Solver()\n",
    "    queens = [Int('Q{}'.format(i)) for i in range(N)]\n",
    "    nq_solver.add(*chain(*[(0 <= q, q < N) for q in queens]))  # valid range constraint\n",
    "    nq_solver.add(Distinct(queens))  # different row constraint\n",
    "    for i, q1 in enumerate(queens):\n",
    "        for j, q2 in enumerate(queens):\n",
    "            if i == j: continue\n",
    "            nq_solver.add(Abs(q1 - q2) != abs(i - j))  # different diagonal constraint\n",
    "    return nq_solver"
   ]
  },
  {
   "cell_type": "code",
   "execution_count": 13,
   "metadata": {},
   "outputs": [
    {
     "name": "stdout",
     "output_type": "stream",
     "text": [
      "4-queens: 32.696537665287906ms\n"
     ]
    }
   ],
   "source": [
    "runtimes = []\n",
    "solutions = []\n",
    "sizes = [4]\n",
    "\n",
    "for N in sizes:\n",
    "    nq_solver = nqueens(N)\n",
    "    start = time.perf_counter()\n",
    "    assert nq_solver.check(), \"Uh oh...The solver failed to find a solution. Check your constraints.\"\n",
    "    end = time.perf_counter()\n",
    "    print(\"{}-queens: {}ms\".format(N, (end-start) * 1000))\n",
    "    runtimes.append((end - start) * 1000)\n",
    "    solutions.append(nq_solver.model())"
   ]
  },
  {
   "cell_type": "code",
   "execution_count": 10,
   "metadata": {},
   "outputs": [
    {
     "data": {
      "text/plain": [
       "[[Q0 = 2, Q1 = 0, Q3 = 1, Q2 = 3]]"
      ]
     },
     "execution_count": 10,
     "metadata": {},
     "output_type": "execute_result"
    }
   ],
   "source": [
    "solutions"
   ]
  },
  {
   "cell_type": "code",
   "execution_count": 14,
   "metadata": {},
   "outputs": [
    {
     "name": "stdout",
     "output_type": "stream",
     "text": [
      "Q0 >= 0 Q0 < 4 Q1 >= 0 Q1 < 4 Q2 >= 0 Q2 < 4 Q3 >= 0 Q3 < 4\n",
      "Distinct(Q0, Q1, Q2, Q3)\n"
     ]
    },
    {
     "data": {
      "text/html": [
       "[Q0 &ge; 0,\n",
       " Q0 &lt; 4,\n",
       " Q1 &ge; 0,\n",
       " Q1 &lt; 4,\n",
       " Q2 &ge; 0,\n",
       " Q2 &lt; 4,\n",
       " Q3 &ge; 0,\n",
       " Q3 &lt; 4,\n",
       " Distinct(Q0, Q1, Q2, Q3),\n",
       " If(Q0 - Q1 &ge; 0, Q0 - Q1, -(Q0 - Q1)) &ne; 1,\n",
       " If(Q0 - Q2 &ge; 0, Q0 - Q2, -(Q0 - Q2)) &ne; 2,\n",
       " If(Q0 - Q3 &ge; 0, Q0 - Q3, -(Q0 - Q3)) &ne; 3,\n",
       " If(Q1 - Q0 &ge; 0, Q1 - Q0, -(Q1 - Q0)) &ne; 1,\n",
       " If(Q1 - Q2 &ge; 0, Q1 - Q2, -(Q1 - Q2)) &ne; 1,\n",
       " If(Q1 - Q3 &ge; 0, Q1 - Q3, -(Q1 - Q3)) &ne; 2,\n",
       " If(Q2 - Q0 &ge; 0, Q2 - Q0, -(Q2 - Q0)) &ne; 2,\n",
       " If(Q2 - Q1 &ge; 0, Q2 - Q1, -(Q2 - Q1)) &ne; 1,\n",
       " If(Q2 - Q3 &ge; 0, Q2 - Q3, -(Q2 - Q3)) &ne; 1,\n",
       " If(Q3 - Q0 &ge; 0, Q3 - Q0, -(Q3 - Q0)) &ne; 3,\n",
       " If(Q3 - Q1 &ge; 0, Q3 - Q1, -(Q3 - Q1)) &ne; 2,\n",
       " If(Q3 - Q2 &ge; 0, Q3 - Q2, -(Q3 - Q2)) &ne; 1]"
      ],
      "text/plain": [
       "[Q0 >= 0,\n",
       " Q0 < 4,\n",
       " Q1 >= 0,\n",
       " Q1 < 4,\n",
       " Q2 >= 0,\n",
       " Q2 < 4,\n",
       " Q3 >= 0,\n",
       " Q3 < 4,\n",
       " Distinct(Q0, Q1, Q2, Q3),\n",
       " If(Q0 - Q1 >= 0, Q0 - Q1, -(Q0 - Q1)) != 1,\n",
       " If(Q0 - Q2 >= 0, Q0 - Q2, -(Q0 - Q2)) != 2,\n",
       " If(Q0 - Q3 >= 0, Q0 - Q3, -(Q0 - Q3)) != 3,\n",
       " If(Q1 - Q0 >= 0, Q1 - Q0, -(Q1 - Q0)) != 1,\n",
       " If(Q1 - Q2 >= 0, Q1 - Q2, -(Q1 - Q2)) != 1,\n",
       " If(Q1 - Q3 >= 0, Q1 - Q3, -(Q1 - Q3)) != 2,\n",
       " If(Q2 - Q0 >= 0, Q2 - Q0, -(Q2 - Q0)) != 2,\n",
       " If(Q2 - Q1 >= 0, Q2 - Q1, -(Q2 - Q1)) != 1,\n",
       " If(Q2 - Q3 >= 0, Q2 - Q3, -(Q2 - Q3)) != 1,\n",
       " If(Q3 - Q0 >= 0, Q3 - Q0, -(Q3 - Q0)) != 3,\n",
       " If(Q3 - Q1 >= 0, Q3 - Q1, -(Q3 - Q1)) != 2,\n",
       " If(Q3 - Q2 >= 0, Q3 - Q2, -(Q3 - Q2)) != 1]"
      ]
     },
     "execution_count": 14,
     "metadata": {},
     "output_type": "execute_result"
    }
   ],
   "source": [
    "N=4\n",
    "queens=[Int('Q{}'.format(i)) for i in range(N)]\n",
    "nq_solver=Solver()\n",
    "print(*chain(*[(0 <= q, q < N) for q in queens]))\n",
    "type(queens)\n",
    "print(Distinct(queens))\n",
    "nqueens(4)"
   ]
  },
  {
   "cell_type": "code",
   "execution_count": 15,
   "metadata": {},
   "outputs": [
    {
     "name": "stdout",
     "output_type": "stream",
     "text": [
      "8-queens: 44.378581433193176ms\n",
      "16-queens: 271.3050350462254ms\n",
      "32-queens: 20824.895665725762ms\n",
      "64-queens: 29837.475781658213ms\n"
     ]
    },
    {
     "data": {
      "text/plain": [
       "[<matplotlib.lines.Line2D at 0x2c79f6780f0>]"
      ]
     },
     "execution_count": 15,
     "metadata": {},
     "output_type": "execute_result"
    }
   ],
   "source": [
    "import matplotlib.pyplot as plt\n",
    "runtimes = []\n",
    "solutions = []\n",
    "sizes = [8, 16, 32, 64]\n",
    "\n",
    "for N in sizes:\n",
    "    nq_solver = nqueens(N)\n",
    "    start = time.perf_counter()\n",
    "    assert nq_solver.check(), \"Uh oh...The solver failed to find a solution. Check your constraints.\"\n",
    "    end = time.perf_counter()\n",
    "    print(\"{}-queens: {}ms\".format(N, (end-start) * 1000))\n",
    "    runtimes.append((end - start) * 1000)\n",
    "    solutions.append(nq_solver.model())\n",
    "\n",
    "plt.plot(sizes, runtimes)"
   ]
  },
  {
   "cell_type": "code",
   "execution_count": 8,
   "metadata": {},
   "outputs": [
    {
     "data": {
      "text/plain": [
       "[[Q1 = 1,\n",
       "  Q6 = 4,\n",
       "  Q0 = 3,\n",
       "  Q3 = 2,\n",
       "  Q4 = 5,\n",
       "  Q2 = 6,\n",
       "  Q5 = 7,\n",
       "  Q7 = 0], [Q8 = 15,\n",
       "  Q12 = 14,\n",
       "  Q3 = 4,\n",
       "  Q11 = 6,\n",
       "  Q13 = 11,\n",
       "  Q10 = 3,\n",
       "  Q1 = 7,\n",
       "  Q6 = 10,\n",
       "  Q9 = 5,\n",
       "  Q14 = 8,\n",
       "  Q0 = 9,\n",
       "  Q4 = 1,\n",
       "  Q5 = 13,\n",
       "  Q2 = 2,\n",
       "  Q15 = 0,\n",
       "  Q7 = 12], [Q8 = 6,\n",
       "  Q22 = 13,\n",
       "  Q16 = 26,\n",
       "  Q30 = 2,\n",
       "  Q12 = 15,\n",
       "  Q11 = 4,\n",
       "  Q24 = 21,\n",
       "  Q10 = 9,\n",
       "  Q18 = 7,\n",
       "  Q26 = 28,\n",
       "  Q0 = 17,\n",
       "  Q31 = 0,\n",
       "  Q7 = 3,\n",
       "  Q29 = 11,\n",
       "  Q20 = 1,\n",
       "  Q3 = 8,\n",
       "  Q13 = 20,\n",
       "  Q19 = 30,\n",
       "  Q25 = 12,\n",
       "  Q1 = 29,\n",
       "  Q6 = 10,\n",
       "  Q9 = 27,\n",
       "  Q14 = 14,\n",
       "  Q21 = 5,\n",
       "  Q27 = 19,\n",
       "  Q4 = 25,\n",
       "  Q5 = 18,\n",
       "  Q15 = 23,\n",
       "  Q2 = 22,\n",
       "  Q28 = 16,\n",
       "  Q17 = 31,\n",
       "  Q23 = 24], [Q37 = 18,\n",
       "  Q43 = 38,\n",
       "  Q53 = 21,\n",
       "  Q12 = 16,\n",
       "  Q46 = 49,\n",
       "  Q11 = 19,\n",
       "  Q48 = 45,\n",
       "  Q24 = 60,\n",
       "  Q10 = 12,\n",
       "  Q40 = 59,\n",
       "  Q50 = 7,\n",
       "  Q18 = 50,\n",
       "  Q49 = 9,\n",
       "  Q26 = 25,\n",
       "  Q0 = 47,\n",
       "  Q51 = 51,\n",
       "  Q55 = 17,\n",
       "  Q7 = 27,\n",
       "  Q29 = 23,\n",
       "  Q41 = 42,\n",
       "  Q39 = 52,\n",
       "  Q20 = 29,\n",
       "  Q57 = 13,\n",
       "  Q35 = 53,\n",
       "  Q4 = 31,\n",
       "  Q5 = 34,\n",
       "  Q15 = 63,\n",
       "  Q2 = 46,\n",
       "  Q17 = 58,\n",
       "  Q23 = 62,\n",
       "  Q8 = 1,\n",
       "  Q22 = 28,\n",
       "  Q30 = 26,\n",
       "  Q63 = 0,\n",
       "  Q56 = 15,\n",
       "  Q62 = 2,\n",
       "  Q58 = 11,\n",
       "  Q32 = 57,\n",
       "  Q47 = 14,\n",
       "  Q42 = 40,\n",
       "  Q31 = 55,\n",
       "  Q59 = 8,\n",
       "  Q36 = 43,\n",
       "  Q44 = 36,\n",
       "  Q3 = 41,\n",
       "  Q13 = 30,\n",
       "  Q19 = 10,\n",
       "  Q25 = 35,\n",
       "  Q52 = 24,\n",
       "  Q1 = 22,\n",
       "  Q6 = 39,\n",
       "  Q9 = 37,\n",
       "  Q14 = 48,\n",
       "  Q21 = 33,\n",
       "  Q38 = 54,\n",
       "  Q45 = 56,\n",
       "  Q27 = 32,\n",
       "  Q60 = 6,\n",
       "  Q61 = 4,\n",
       "  Q33 = 20,\n",
       "  Q28 = 5,\n",
       "  Q54 = 44,\n",
       "  Q16 = 61,\n",
       "  Q34 = 3]]"
      ]
     },
     "execution_count": 8,
     "metadata": {},
     "output_type": "execute_result"
    }
   ],
   "source": [
    "solutions"
   ]
  },
  {
   "cell_type": "code",
   "execution_count": 17,
   "metadata": {},
   "outputs": [
    {
     "data": {
      "image/png": "[encoded data removed]",
      "text/plain": [
       "<Figure size 432x288 with 1 Axes>"
      ]
     },
     "metadata": {},
     "output_type": "display_data"
    }
   ],
   "source": [
    "plt.plot(sizes, runtimes)\n",
    "plt.show()"
   ]
  },
  {
   "cell_type": "code",
   "execution_count": null,
   "metadata": {},
   "outputs": [],
   "source": []
  }
 ],
 "metadata": {
  "kernelspec": {
   "display_name": "Python 3",
   "language": "python",
   "name": "python3"
  },
  "language_info": {
   "codemirror_mode": {
    "name": "ipython",
    "version": 3
   },
   "file_extension": ".py",
   "mimetype": "text/x-python",
   "name": "python",
   "nbconvert_exporter": "python",
   "pygments_lexer": "ipython3",
   "version": "3.6.5"
  }
 },
 "nbformat": 4,
 "nbformat_minor": 1
}
