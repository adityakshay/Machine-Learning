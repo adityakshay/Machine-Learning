{
  "nbformat": 4,
  "nbformat_minor": 0,
  "metadata": {
    "colab": {
      "name": "classification_exercise.ipynb",
      "version": "0.3.2",
      "provenance": [],
      "collapsed_sections": [
        "ArjstAtlVn61",
        "CzArHkdReyVm"
      ],
      "include_colab_link": true
    },
    "kernelspec": {
      "name": "python3",
      "display_name": "Python 3"
    }
  },
  "cells": [
    {
      "cell_type": "markdown",
      "metadata": {
        "id": "view-in-github",
        "colab_type": "text"
      },
      "source": [
        "<a href=\"https://colab.research.google.com/github/adityakshay/Machine-Learning/blob/master/classification_exercise.ipynb\" target=\"_parent\"><img src=\"https://colab.research.google.com/assets/colab-badge.svg\" alt=\"Open In Colab\"/></a>"
      ]
    },
    {
      "cell_type": "markdown",
      "metadata": {
        "id": "8HF0JbeeG9mh",
        "colab_type": "text"
      },
      "source": [
        "# Start of Classification Exercise"
      ]
    },
    {
      "cell_type": "code",
      "metadata": {
        "id": "-_90YDLFG_9t",
        "colab_type": "code",
        "colab": {}
      },
      "source": [
        "actuals = [1,0,0,1,1] "
      ],
      "execution_count": 0,
      "outputs": []
    },
    {
      "cell_type": "code",
      "metadata": {
        "id": "FB69cvXmHRYQ",
        "colab_type": "code",
        "colab": {}
      },
      "source": [
        "predicted =  [0,0,0,0,0]"
      ],
      "execution_count": 0,
      "outputs": []
    },
    {
      "cell_type": "code",
      "metadata": {
        "id": "_Tc5dTddHWxT",
        "colab_type": "code",
        "colab": {}
      },
      "source": [
        "from sklearn.metrics import confusion_matrix"
      ],
      "execution_count": 0,
      "outputs": []
    },
    {
      "cell_type": "code",
      "metadata": {
        "id": "A6b2EeCwHoaG",
        "colab_type": "code",
        "colab": {}
      },
      "source": [
        "cm = confusion_matrix(actuals, predicted)"
      ],
      "execution_count": 0,
      "outputs": []
    },
    {
      "cell_type": "code",
      "metadata": {
        "id": "6XSjkoylHt_q",
        "colab_type": "code",
        "outputId": "43871847-1b67-4722-8f4a-60f9c890f941",
        "colab": {
          "base_uri": "https://localhost:8080/",
          "height": 51
        }
      },
      "source": [
        "print(cm)"
      ],
      "execution_count": 0,
      "outputs": [
        {
          "output_type": "stream",
          "text": [
            "[[2 0]\n",
            " [3 0]]\n"
          ],
          "name": "stdout"
        }
      ]
    },
    {
      "cell_type": "code",
      "metadata": {
        "id": "as0DYp4RHvdz",
        "colab_type": "code",
        "outputId": "ca9cb9a1-2cc9-42e5-ea04-e0cef10c4125",
        "colab": {
          "base_uri": "https://localhost:8080/",
          "height": 34
        }
      },
      "source": [
        "tn, fp, fn, tp = confusion_matrix(actuals, predicted).ravel()\n",
        "(tn, fp, fn, tp)"
      ],
      "execution_count": 0,
      "outputs": [
        {
          "output_type": "execute_result",
          "data": {
            "text/plain": [
              "(2, 0, 3, 0)"
            ]
          },
          "metadata": {
            "tags": []
          },
          "execution_count": 6
        }
      ]
    },
    {
      "cell_type": "code",
      "metadata": {
        "id": "cayhrEmyIiq8",
        "colab_type": "code",
        "colab": {}
      },
      "source": [
        "from sklearn.metrics import fbeta_score"
      ],
      "execution_count": 0,
      "outputs": []
    },
    {
      "cell_type": "code",
      "metadata": {
        "id": "zuqXQU1tKGg1",
        "colab_type": "code",
        "outputId": "ae8b65d8-78aa-4c7a-ca80-7fa28e4f7ccc",
        "colab": {
          "base_uri": "https://localhost:8080/",
          "height": 88
        }
      },
      "source": [
        "fbeta_score(actuals, predicted, average=None, beta= 0.5)"
      ],
      "execution_count": 0,
      "outputs": [
        {
          "output_type": "stream",
          "text": [
            "/usr/local/lib/python3.6/dist-packages/sklearn/metrics/classification.py:1437: UndefinedMetricWarning: F-score is ill-defined and being set to 0.0 in labels with no predicted samples.\n",
            "  'precision', 'predicted', average, warn_for)\n"
          ],
          "name": "stderr"
        },
        {
          "output_type": "execute_result",
          "data": {
            "text/plain": [
              "array([0.45454545, 0.        ])"
            ]
          },
          "metadata": {
            "tags": []
          },
          "execution_count": 8
        }
      ]
    },
    {
      "cell_type": "code",
      "metadata": {
        "id": "Al8F53AnKKg2",
        "colab_type": "code",
        "colab": {}
      },
      "source": [
        ""
      ],
      "execution_count": 0,
      "outputs": []
    },
    {
      "cell_type": "markdown",
      "metadata": {
        "id": "98WDy6ZVK8Za",
        "colab_type": "text"
      },
      "source": [
        "# Start of implementation on Breast Cancer Data"
      ]
    },
    {
      "cell_type": "code",
      "metadata": {
        "id": "VHiP2h7WK_0c",
        "colab_type": "code",
        "colab": {}
      },
      "source": [
        "from sklearn.datasets import load_breast_cancer\n",
        "import pandas as pd"
      ],
      "execution_count": 0,
      "outputs": []
    },
    {
      "cell_type": "code",
      "metadata": {
        "id": "Q3sJMWykLDSq",
        "colab_type": "code",
        "colab": {}
      },
      "source": [
        "data1 = load_breast_cancer()"
      ],
      "execution_count": 0,
      "outputs": []
    },
    {
      "cell_type": "code",
      "metadata": {
        "id": "4Edv40F6d8oI",
        "colab_type": "code",
        "outputId": "08b2227d-7744-4458-e886-29c0092ae963",
        "colab": {
          "base_uri": "https://localhost:8080/",
          "height": 34
        }
      },
      "source": [
        "data1.keys()"
      ],
      "execution_count": 0,
      "outputs": [
        {
          "output_type": "execute_result",
          "data": {
            "text/plain": [
              "dict_keys(['data', 'target', 'target_names', 'DESCR', 'feature_names', 'filename'])"
            ]
          },
          "metadata": {
            "tags": []
          },
          "execution_count": 65
        }
      ]
    },
    {
      "cell_type": "code",
      "metadata": {
        "id": "OO_R3lVseEsp",
        "colab_type": "code",
        "outputId": "f9bf93e2-3d19-4f53-a005-fe77cfc5de11",
        "colab": {
          "base_uri": "https://localhost:8080/",
          "height": 2023
        }
      },
      "source": [
        "print(data1.DESCR)"
      ],
      "execution_count": 0,
      "outputs": [
        {
          "output_type": "stream",
          "text": [
            ".. _breast_cancer_dataset:\n",
            "\n",
            "Breast cancer wisconsin (diagnostic) dataset\n",
            "--------------------------------------------\n",
            "\n",
            "**Data Set Characteristics:**\n",
            "\n",
            "    :Number of Instances: 569\n",
            "\n",
            "    :Number of Attributes: 30 numeric, predictive attributes and the class\n",
            "\n",
            "    :Attribute Information:\n",
            "        - radius (mean of distances from center to points on the perimeter)\n",
            "        - texture (standard deviation of gray-scale values)\n",
            "        - perimeter\n",
            "        - area\n",
            "        - smoothness (local variation in radius lengths)\n",
            "        - compactness (perimeter^2 / area - 1.0)\n",
            "        - concavity (severity of concave portions of the contour)\n",
            "        - concave points (number of concave portions of the contour)\n",
            "        - symmetry \n",
            "        - fractal dimension (\"coastline approximation\" - 1)\n",
            "\n",
            "        The mean, standard error, and \"worst\" or largest (mean of the three\n",
            "        largest values) of these features were computed for each image,\n",
            "        resulting in 30 features.  For instance, field 3 is Mean Radius, field\n",
            "        13 is Radius SE, field 23 is Worst Radius.\n",
            "\n",
            "        - class:\n",
            "                - WDBC-Malignant\n",
            "                - WDBC-Benign\n",
            "\n",
            "    :Summary Statistics:\n",
            "\n",
            "    ===================================== ====== ======\n",
            "                                           Min    Max\n",
            "    ===================================== ====== ======\n",
            "    radius (mean):                        6.981  28.11\n",
            "    texture (mean):                       9.71   39.28\n",
            "    perimeter (mean):                     43.79  188.5\n",
            "    area (mean):                          143.5  2501.0\n",
            "    smoothness (mean):                    0.053  0.163\n",
            "    compactness (mean):                   0.019  0.345\n",
            "    concavity (mean):                     0.0    0.427\n",
            "    concave points (mean):                0.0    0.201\n",
            "    symmetry (mean):                      0.106  0.304\n",
            "    fractal dimension (mean):             0.05   0.097\n",
            "    radius (standard error):              0.112  2.873\n",
            "    texture (standard error):             0.36   4.885\n",
            "    perimeter (standard error):           0.757  21.98\n",
            "    area (standard error):                6.802  542.2\n",
            "    smoothness (standard error):          0.002  0.031\n",
            "    compactness (standard error):         0.002  0.135\n",
            "    concavity (standard error):           0.0    0.396\n",
            "    concave points (standard error):      0.0    0.053\n",
            "    symmetry (standard error):            0.008  0.079\n",
            "    fractal dimension (standard error):   0.001  0.03\n",
            "    radius (worst):                       7.93   36.04\n",
            "    texture (worst):                      12.02  49.54\n",
            "    perimeter (worst):                    50.41  251.2\n",
            "    area (worst):                         185.2  4254.0\n",
            "    smoothness (worst):                   0.071  0.223\n",
            "    compactness (worst):                  0.027  1.058\n",
            "    concavity (worst):                    0.0    1.252\n",
            "    concave points (worst):               0.0    0.291\n",
            "    symmetry (worst):                     0.156  0.664\n",
            "    fractal dimension (worst):            0.055  0.208\n",
            "    ===================================== ====== ======\n",
            "\n",
            "    :Missing Attribute Values: None\n",
            "\n",
            "    :Class Distribution: 212 - Malignant, 357 - Benign\n",
            "\n",
            "    :Creator:  Dr. William H. Wolberg, W. Nick Street, Olvi L. Mangasarian\n",
            "\n",
            "    :Donor: Nick Street\n",
            "\n",
            "    :Date: November, 1995\n",
            "\n",
            "This is a copy of UCI ML Breast Cancer Wisconsin (Diagnostic) datasets.\n",
            "https://goo.gl/U2Uwz2\n",
            "\n",
            "Features are computed from a digitized image of a fine needle\n",
            "aspirate (FNA) of a breast mass.  They describe\n",
            "characteristics of the cell nuclei present in the image.\n",
            "\n",
            "Separating plane described above was obtained using\n",
            "Multisurface Method-Tree (MSM-T) [K. P. Bennett, \"Decision Tree\n",
            "Construction Via Linear Programming.\" Proceedings of the 4th\n",
            "Midwest Artificial Intelligence and Cognitive Science Society,\n",
            "pp. 97-101, 1992], a classification method which uses linear\n",
            "programming to construct a decision tree.  Relevant features\n",
            "were selected using an exhaustive search in the space of 1-4\n",
            "features and 1-3 separating planes.\n",
            "\n",
            "The actual linear program used to obtain the separating plane\n",
            "in the 3-dimensional space is that described in:\n",
            "[K. P. Bennett and O. L. Mangasarian: \"Robust Linear\n",
            "Programming Discrimination of Two Linearly Inseparable Sets\",\n",
            "Optimization Methods and Software 1, 1992, 23-34].\n",
            "\n",
            "This database is also available through the UW CS ftp server:\n",
            "\n",
            "ftp ftp.cs.wisc.edu\n",
            "cd math-prog/cpo-dataset/machine-learn/WDBC/\n",
            "\n",
            ".. topic:: References\n",
            "\n",
            "   - W.N. Street, W.H. Wolberg and O.L. Mangasarian. Nuclear feature extraction \n",
            "     for breast tumor diagnosis. IS&T/SPIE 1993 International Symposium on \n",
            "     Electronic Imaging: Science and Technology, volume 1905, pages 861-870,\n",
            "     San Jose, CA, 1993.\n",
            "   - O.L. Mangasarian, W.N. Street and W.H. Wolberg. Breast cancer diagnosis and \n",
            "     prognosis via linear programming. Operations Research, 43(4), pages 570-577, \n",
            "     July-August 1995.\n",
            "   - W.H. Wolberg, W.N. Street, and O.L. Mangasarian. Machine learning techniques\n",
            "     to diagnose breast cancer from fine-needle aspirates. Cancer Letters 77 (1994) \n",
            "     163-171.\n"
          ],
          "name": "stdout"
        }
      ]
    },
    {
      "cell_type": "code",
      "metadata": {
        "id": "g67PIqZFLLbB",
        "colab_type": "code",
        "colab": {}
      },
      "source": [
        "df = pd.DataFrame(data1.data)"
      ],
      "execution_count": 0,
      "outputs": []
    },
    {
      "cell_type": "code",
      "metadata": {
        "id": "J3rC0ierLQrU",
        "colab_type": "code",
        "outputId": "ba75c10f-7228-47ef-a352-6039599cb8b9",
        "colab": {
          "base_uri": "https://localhost:8080/",
          "height": 224
        }
      },
      "source": [
        "df.head()"
      ],
      "execution_count": 0,
      "outputs": [
        {
          "output_type": "execute_result",
          "data": {
            "text/html": [
              "<div>\n",
              "<style scoped>\n",
              "    .dataframe tbody tr th:only-of-type {\n",
              "        vertical-align: middle;\n",
              "    }\n",
              "\n",
              "    .dataframe tbody tr th {\n",
              "        vertical-align: top;\n",
              "    }\n",
              "\n",
              "    .dataframe thead th {\n",
              "        text-align: right;\n",
              "    }\n",
              "</style>\n",
              "<table border=\"1\" class=\"dataframe\">\n",
              "  <thead>\n",
              "    <tr style=\"text-align: right;\">\n",
              "      <th></th>\n",
              "      <th>0</th>\n",
              "      <th>1</th>\n",
              "      <th>2</th>\n",
              "      <th>3</th>\n",
              "      <th>4</th>\n",
              "      <th>5</th>\n",
              "      <th>6</th>\n",
              "      <th>7</th>\n",
              "      <th>8</th>\n",
              "      <th>9</th>\n",
              "      <th>10</th>\n",
              "      <th>11</th>\n",
              "      <th>12</th>\n",
              "      <th>13</th>\n",
              "      <th>14</th>\n",
              "      <th>15</th>\n",
              "      <th>16</th>\n",
              "      <th>17</th>\n",
              "      <th>18</th>\n",
              "      <th>19</th>\n",
              "      <th>20</th>\n",
              "      <th>21</th>\n",
              "      <th>22</th>\n",
              "      <th>23</th>\n",
              "      <th>24</th>\n",
              "      <th>25</th>\n",
              "      <th>26</th>\n",
              "      <th>27</th>\n",
              "      <th>28</th>\n",
              "      <th>29</th>\n",
              "    </tr>\n",
              "  </thead>\n",
              "  <tbody>\n",
              "    <tr>\n",
              "      <th>0</th>\n",
              "      <td>17.99</td>\n",
              "      <td>10.38</td>\n",
              "      <td>122.80</td>\n",
              "      <td>1001.0</td>\n",
              "      <td>0.11840</td>\n",
              "      <td>0.27760</td>\n",
              "      <td>0.3001</td>\n",
              "      <td>0.14710</td>\n",
              "      <td>0.2419</td>\n",
              "      <td>0.07871</td>\n",
              "      <td>1.0950</td>\n",
              "      <td>0.9053</td>\n",
              "      <td>8.589</td>\n",
              "      <td>153.40</td>\n",
              "      <td>0.006399</td>\n",
              "      <td>0.04904</td>\n",
              "      <td>0.05373</td>\n",
              "      <td>0.01587</td>\n",
              "      <td>0.03003</td>\n",
              "      <td>0.006193</td>\n",
              "      <td>25.38</td>\n",
              "      <td>17.33</td>\n",
              "      <td>184.60</td>\n",
              "      <td>2019.0</td>\n",
              "      <td>0.1622</td>\n",
              "      <td>0.6656</td>\n",
              "      <td>0.7119</td>\n",
              "      <td>0.2654</td>\n",
              "      <td>0.4601</td>\n",
              "      <td>0.11890</td>\n",
              "    </tr>\n",
              "    <tr>\n",
              "      <th>1</th>\n",
              "      <td>20.57</td>\n",
              "      <td>17.77</td>\n",
              "      <td>132.90</td>\n",
              "      <td>1326.0</td>\n",
              "      <td>0.08474</td>\n",
              "      <td>0.07864</td>\n",
              "      <td>0.0869</td>\n",
              "      <td>0.07017</td>\n",
              "      <td>0.1812</td>\n",
              "      <td>0.05667</td>\n",
              "      <td>0.5435</td>\n",
              "      <td>0.7339</td>\n",
              "      <td>3.398</td>\n",
              "      <td>74.08</td>\n",
              "      <td>0.005225</td>\n",
              "      <td>0.01308</td>\n",
              "      <td>0.01860</td>\n",
              "      <td>0.01340</td>\n",
              "      <td>0.01389</td>\n",
              "      <td>0.003532</td>\n",
              "      <td>24.99</td>\n",
              "      <td>23.41</td>\n",
              "      <td>158.80</td>\n",
              "      <td>1956.0</td>\n",
              "      <td>0.1238</td>\n",
              "      <td>0.1866</td>\n",
              "      <td>0.2416</td>\n",
              "      <td>0.1860</td>\n",
              "      <td>0.2750</td>\n",
              "      <td>0.08902</td>\n",
              "    </tr>\n",
              "    <tr>\n",
              "      <th>2</th>\n",
              "      <td>19.69</td>\n",
              "      <td>21.25</td>\n",
              "      <td>130.00</td>\n",
              "      <td>1203.0</td>\n",
              "      <td>0.10960</td>\n",
              "      <td>0.15990</td>\n",
              "      <td>0.1974</td>\n",
              "      <td>0.12790</td>\n",
              "      <td>0.2069</td>\n",
              "      <td>0.05999</td>\n",
              "      <td>0.7456</td>\n",
              "      <td>0.7869</td>\n",
              "      <td>4.585</td>\n",
              "      <td>94.03</td>\n",
              "      <td>0.006150</td>\n",
              "      <td>0.04006</td>\n",
              "      <td>0.03832</td>\n",
              "      <td>0.02058</td>\n",
              "      <td>0.02250</td>\n",
              "      <td>0.004571</td>\n",
              "      <td>23.57</td>\n",
              "      <td>25.53</td>\n",
              "      <td>152.50</td>\n",
              "      <td>1709.0</td>\n",
              "      <td>0.1444</td>\n",
              "      <td>0.4245</td>\n",
              "      <td>0.4504</td>\n",
              "      <td>0.2430</td>\n",
              "      <td>0.3613</td>\n",
              "      <td>0.08758</td>\n",
              "    </tr>\n",
              "    <tr>\n",
              "      <th>3</th>\n",
              "      <td>11.42</td>\n",
              "      <td>20.38</td>\n",
              "      <td>77.58</td>\n",
              "      <td>386.1</td>\n",
              "      <td>0.14250</td>\n",
              "      <td>0.28390</td>\n",
              "      <td>0.2414</td>\n",
              "      <td>0.10520</td>\n",
              "      <td>0.2597</td>\n",
              "      <td>0.09744</td>\n",
              "      <td>0.4956</td>\n",
              "      <td>1.1560</td>\n",
              "      <td>3.445</td>\n",
              "      <td>27.23</td>\n",
              "      <td>0.009110</td>\n",
              "      <td>0.07458</td>\n",
              "      <td>0.05661</td>\n",
              "      <td>0.01867</td>\n",
              "      <td>0.05963</td>\n",
              "      <td>0.009208</td>\n",
              "      <td>14.91</td>\n",
              "      <td>26.50</td>\n",
              "      <td>98.87</td>\n",
              "      <td>567.7</td>\n",
              "      <td>0.2098</td>\n",
              "      <td>0.8663</td>\n",
              "      <td>0.6869</td>\n",
              "      <td>0.2575</td>\n",
              "      <td>0.6638</td>\n",
              "      <td>0.17300</td>\n",
              "    </tr>\n",
              "    <tr>\n",
              "      <th>4</th>\n",
              "      <td>20.29</td>\n",
              "      <td>14.34</td>\n",
              "      <td>135.10</td>\n",
              "      <td>1297.0</td>\n",
              "      <td>0.10030</td>\n",
              "      <td>0.13280</td>\n",
              "      <td>0.1980</td>\n",
              "      <td>0.10430</td>\n",
              "      <td>0.1809</td>\n",
              "      <td>0.05883</td>\n",
              "      <td>0.7572</td>\n",
              "      <td>0.7813</td>\n",
              "      <td>5.438</td>\n",
              "      <td>94.44</td>\n",
              "      <td>0.011490</td>\n",
              "      <td>0.02461</td>\n",
              "      <td>0.05688</td>\n",
              "      <td>0.01885</td>\n",
              "      <td>0.01756</td>\n",
              "      <td>0.005115</td>\n",
              "      <td>22.54</td>\n",
              "      <td>16.67</td>\n",
              "      <td>152.20</td>\n",
              "      <td>1575.0</td>\n",
              "      <td>0.1374</td>\n",
              "      <td>0.2050</td>\n",
              "      <td>0.4000</td>\n",
              "      <td>0.1625</td>\n",
              "      <td>0.2364</td>\n",
              "      <td>0.07678</td>\n",
              "    </tr>\n",
              "  </tbody>\n",
              "</table>\n",
              "</div>"
            ],
            "text/plain": [
              "      0      1       2       3   ...      26      27      28       29\n",
              "0  17.99  10.38  122.80  1001.0  ...  0.7119  0.2654  0.4601  0.11890\n",
              "1  20.57  17.77  132.90  1326.0  ...  0.2416  0.1860  0.2750  0.08902\n",
              "2  19.69  21.25  130.00  1203.0  ...  0.4504  0.2430  0.3613  0.08758\n",
              "3  11.42  20.38   77.58   386.1  ...  0.6869  0.2575  0.6638  0.17300\n",
              "4  20.29  14.34  135.10  1297.0  ...  0.4000  0.1625  0.2364  0.07678\n",
              "\n",
              "[5 rows x 30 columns]"
            ]
          },
          "metadata": {
            "tags": []
          },
          "execution_count": 12
        }
      ]
    },
    {
      "cell_type": "code",
      "metadata": {
        "id": "Bc_az7nTLV1r",
        "colab_type": "code",
        "colab": {}
      },
      "source": [
        "df.columns=data1.feature_names "
      ],
      "execution_count": 0,
      "outputs": []
    },
    {
      "cell_type": "code",
      "metadata": {
        "id": "8-1BXVPvLnYt",
        "colab_type": "code",
        "outputId": "9426dff4-69e9-4894-f70a-1802cb655d87",
        "colab": {
          "base_uri": "https://localhost:8080/",
          "height": 258
        }
      },
      "source": [
        "df.head()"
      ],
      "execution_count": 0,
      "outputs": [
        {
          "output_type": "execute_result",
          "data": {
            "text/html": [
              "<div>\n",
              "<style scoped>\n",
              "    .dataframe tbody tr th:only-of-type {\n",
              "        vertical-align: middle;\n",
              "    }\n",
              "\n",
              "    .dataframe tbody tr th {\n",
              "        vertical-align: top;\n",
              "    }\n",
              "\n",
              "    .dataframe thead th {\n",
              "        text-align: right;\n",
              "    }\n",
              "</style>\n",
              "<table border=\"1\" class=\"dataframe\">\n",
              "  <thead>\n",
              "    <tr style=\"text-align: right;\">\n",
              "      <th></th>\n",
              "      <th>mean radius</th>\n",
              "      <th>mean texture</th>\n",
              "      <th>mean perimeter</th>\n",
              "      <th>mean area</th>\n",
              "      <th>mean smoothness</th>\n",
              "      <th>mean compactness</th>\n",
              "      <th>mean concavity</th>\n",
              "      <th>mean concave points</th>\n",
              "      <th>mean symmetry</th>\n",
              "      <th>mean fractal dimension</th>\n",
              "      <th>radius error</th>\n",
              "      <th>texture error</th>\n",
              "      <th>perimeter error</th>\n",
              "      <th>area error</th>\n",
              "      <th>smoothness error</th>\n",
              "      <th>compactness error</th>\n",
              "      <th>concavity error</th>\n",
              "      <th>concave points error</th>\n",
              "      <th>symmetry error</th>\n",
              "      <th>fractal dimension error</th>\n",
              "      <th>worst radius</th>\n",
              "      <th>worst texture</th>\n",
              "      <th>worst perimeter</th>\n",
              "      <th>worst area</th>\n",
              "      <th>worst smoothness</th>\n",
              "      <th>worst compactness</th>\n",
              "      <th>worst concavity</th>\n",
              "      <th>worst concave points</th>\n",
              "      <th>worst symmetry</th>\n",
              "      <th>worst fractal dimension</th>\n",
              "    </tr>\n",
              "  </thead>\n",
              "  <tbody>\n",
              "    <tr>\n",
              "      <th>0</th>\n",
              "      <td>17.99</td>\n",
              "      <td>10.38</td>\n",
              "      <td>122.80</td>\n",
              "      <td>1001.0</td>\n",
              "      <td>0.11840</td>\n",
              "      <td>0.27760</td>\n",
              "      <td>0.3001</td>\n",
              "      <td>0.14710</td>\n",
              "      <td>0.2419</td>\n",
              "      <td>0.07871</td>\n",
              "      <td>1.0950</td>\n",
              "      <td>0.9053</td>\n",
              "      <td>8.589</td>\n",
              "      <td>153.40</td>\n",
              "      <td>0.006399</td>\n",
              "      <td>0.04904</td>\n",
              "      <td>0.05373</td>\n",
              "      <td>0.01587</td>\n",
              "      <td>0.03003</td>\n",
              "      <td>0.006193</td>\n",
              "      <td>25.38</td>\n",
              "      <td>17.33</td>\n",
              "      <td>184.60</td>\n",
              "      <td>2019.0</td>\n",
              "      <td>0.1622</td>\n",
              "      <td>0.6656</td>\n",
              "      <td>0.7119</td>\n",
              "      <td>0.2654</td>\n",
              "      <td>0.4601</td>\n",
              "      <td>0.11890</td>\n",
              "    </tr>\n",
              "    <tr>\n",
              "      <th>1</th>\n",
              "      <td>20.57</td>\n",
              "      <td>17.77</td>\n",
              "      <td>132.90</td>\n",
              "      <td>1326.0</td>\n",
              "      <td>0.08474</td>\n",
              "      <td>0.07864</td>\n",
              "      <td>0.0869</td>\n",
              "      <td>0.07017</td>\n",
              "      <td>0.1812</td>\n",
              "      <td>0.05667</td>\n",
              "      <td>0.5435</td>\n",
              "      <td>0.7339</td>\n",
              "      <td>3.398</td>\n",
              "      <td>74.08</td>\n",
              "      <td>0.005225</td>\n",
              "      <td>0.01308</td>\n",
              "      <td>0.01860</td>\n",
              "      <td>0.01340</td>\n",
              "      <td>0.01389</td>\n",
              "      <td>0.003532</td>\n",
              "      <td>24.99</td>\n",
              "      <td>23.41</td>\n",
              "      <td>158.80</td>\n",
              "      <td>1956.0</td>\n",
              "      <td>0.1238</td>\n",
              "      <td>0.1866</td>\n",
              "      <td>0.2416</td>\n",
              "      <td>0.1860</td>\n",
              "      <td>0.2750</td>\n",
              "      <td>0.08902</td>\n",
              "    </tr>\n",
              "    <tr>\n",
              "      <th>2</th>\n",
              "      <td>19.69</td>\n",
              "      <td>21.25</td>\n",
              "      <td>130.00</td>\n",
              "      <td>1203.0</td>\n",
              "      <td>0.10960</td>\n",
              "      <td>0.15990</td>\n",
              "      <td>0.1974</td>\n",
              "      <td>0.12790</td>\n",
              "      <td>0.2069</td>\n",
              "      <td>0.05999</td>\n",
              "      <td>0.7456</td>\n",
              "      <td>0.7869</td>\n",
              "      <td>4.585</td>\n",
              "      <td>94.03</td>\n",
              "      <td>0.006150</td>\n",
              "      <td>0.04006</td>\n",
              "      <td>0.03832</td>\n",
              "      <td>0.02058</td>\n",
              "      <td>0.02250</td>\n",
              "      <td>0.004571</td>\n",
              "      <td>23.57</td>\n",
              "      <td>25.53</td>\n",
              "      <td>152.50</td>\n",
              "      <td>1709.0</td>\n",
              "      <td>0.1444</td>\n",
              "      <td>0.4245</td>\n",
              "      <td>0.4504</td>\n",
              "      <td>0.2430</td>\n",
              "      <td>0.3613</td>\n",
              "      <td>0.08758</td>\n",
              "    </tr>\n",
              "    <tr>\n",
              "      <th>3</th>\n",
              "      <td>11.42</td>\n",
              "      <td>20.38</td>\n",
              "      <td>77.58</td>\n",
              "      <td>386.1</td>\n",
              "      <td>0.14250</td>\n",
              "      <td>0.28390</td>\n",
              "      <td>0.2414</td>\n",
              "      <td>0.10520</td>\n",
              "      <td>0.2597</td>\n",
              "      <td>0.09744</td>\n",
              "      <td>0.4956</td>\n",
              "      <td>1.1560</td>\n",
              "      <td>3.445</td>\n",
              "      <td>27.23</td>\n",
              "      <td>0.009110</td>\n",
              "      <td>0.07458</td>\n",
              "      <td>0.05661</td>\n",
              "      <td>0.01867</td>\n",
              "      <td>0.05963</td>\n",
              "      <td>0.009208</td>\n",
              "      <td>14.91</td>\n",
              "      <td>26.50</td>\n",
              "      <td>98.87</td>\n",
              "      <td>567.7</td>\n",
              "      <td>0.2098</td>\n",
              "      <td>0.8663</td>\n",
              "      <td>0.6869</td>\n",
              "      <td>0.2575</td>\n",
              "      <td>0.6638</td>\n",
              "      <td>0.17300</td>\n",
              "    </tr>\n",
              "    <tr>\n",
              "      <th>4</th>\n",
              "      <td>20.29</td>\n",
              "      <td>14.34</td>\n",
              "      <td>135.10</td>\n",
              "      <td>1297.0</td>\n",
              "      <td>0.10030</td>\n",
              "      <td>0.13280</td>\n",
              "      <td>0.1980</td>\n",
              "      <td>0.10430</td>\n",
              "      <td>0.1809</td>\n",
              "      <td>0.05883</td>\n",
              "      <td>0.7572</td>\n",
              "      <td>0.7813</td>\n",
              "      <td>5.438</td>\n",
              "      <td>94.44</td>\n",
              "      <td>0.011490</td>\n",
              "      <td>0.02461</td>\n",
              "      <td>0.05688</td>\n",
              "      <td>0.01885</td>\n",
              "      <td>0.01756</td>\n",
              "      <td>0.005115</td>\n",
              "      <td>22.54</td>\n",
              "      <td>16.67</td>\n",
              "      <td>152.20</td>\n",
              "      <td>1575.0</td>\n",
              "      <td>0.1374</td>\n",
              "      <td>0.2050</td>\n",
              "      <td>0.4000</td>\n",
              "      <td>0.1625</td>\n",
              "      <td>0.2364</td>\n",
              "      <td>0.07678</td>\n",
              "    </tr>\n",
              "  </tbody>\n",
              "</table>\n",
              "</div>"
            ],
            "text/plain": [
              "   mean radius  mean texture  ...  worst symmetry  worst fractal dimension\n",
              "0        17.99         10.38  ...          0.4601                  0.11890\n",
              "1        20.57         17.77  ...          0.2750                  0.08902\n",
              "2        19.69         21.25  ...          0.3613                  0.08758\n",
              "3        11.42         20.38  ...          0.6638                  0.17300\n",
              "4        20.29         14.34  ...          0.2364                  0.07678\n",
              "\n",
              "[5 rows x 30 columns]"
            ]
          },
          "metadata": {
            "tags": []
          },
          "execution_count": 14
        }
      ]
    },
    {
      "cell_type": "code",
      "metadata": {
        "id": "jkQOdwZ_Loly",
        "colab_type": "code",
        "colab": {}
      },
      "source": [
        "df['has_cancer']=data1.target"
      ],
      "execution_count": 0,
      "outputs": []
    },
    {
      "cell_type": "code",
      "metadata": {
        "id": "qaCUFo_IL2wH",
        "colab_type": "code",
        "outputId": "8b4c607a-1db2-4ff7-dcd1-a671fb60a668",
        "colab": {
          "base_uri": "https://localhost:8080/",
          "height": 68
        }
      },
      "source": [
        "df['has_cancer'].value_counts()"
      ],
      "execution_count": 0,
      "outputs": [
        {
          "output_type": "execute_result",
          "data": {
            "text/plain": [
              "1    357\n",
              "0    212\n",
              "Name: has_cancer, dtype: int64"
            ]
          },
          "metadata": {
            "tags": []
          },
          "execution_count": 16
        }
      ]
    },
    {
      "cell_type": "code",
      "metadata": {
        "id": "M3jANbp8L6cV",
        "colab_type": "code",
        "colab": {}
      },
      "source": [
        "from sklearn.model_selection import train_test_split"
      ],
      "execution_count": 0,
      "outputs": []
    },
    {
      "cell_type": "code",
      "metadata": {
        "id": "D3e628-MMgWO",
        "colab_type": "code",
        "colab": {}
      },
      "source": [
        "y=df['has_cancer']"
      ],
      "execution_count": 0,
      "outputs": []
    },
    {
      "cell_type": "code",
      "metadata": {
        "id": "_XhIVLXRM1td",
        "colab_type": "code",
        "colab": {}
      },
      "source": [
        "X=df.drop('has_cancer', axis=1)"
      ],
      "execution_count": 0,
      "outputs": []
    },
    {
      "cell_type": "code",
      "metadata": {
        "id": "1GsOOvLdM7bO",
        "colab_type": "code",
        "colab": {}
      },
      "source": [
        "X_train, X_test, y_train, y_test = train_test_split(X, y, test_size=0.2, random_state=0)"
      ],
      "execution_count": 0,
      "outputs": []
    },
    {
      "cell_type": "code",
      "metadata": {
        "id": "2xau3KywNePQ",
        "colab_type": "code",
        "outputId": "4d1b482a-5c24-40e7-cbb7-76dbfd81373a",
        "colab": {
          "base_uri": "https://localhost:8080/",
          "height": 34
        }
      },
      "source": [
        "X_train.shape"
      ],
      "execution_count": 0,
      "outputs": [
        {
          "output_type": "execute_result",
          "data": {
            "text/plain": [
              "(455, 30)"
            ]
          },
          "metadata": {
            "tags": []
          },
          "execution_count": 21
        }
      ]
    },
    {
      "cell_type": "code",
      "metadata": {
        "id": "yqaVXuVHNyLu",
        "colab_type": "code",
        "outputId": "779dfbd7-dabc-4014-aa37-c1d5b89e9bcf",
        "colab": {
          "base_uri": "https://localhost:8080/",
          "height": 34
        }
      },
      "source": [
        "X_test.shape"
      ],
      "execution_count": 0,
      "outputs": [
        {
          "output_type": "execute_result",
          "data": {
            "text/plain": [
              "(114, 30)"
            ]
          },
          "metadata": {
            "tags": []
          },
          "execution_count": 22
        }
      ]
    },
    {
      "cell_type": "code",
      "metadata": {
        "id": "eHu3mzNlN1HM",
        "colab_type": "code",
        "outputId": "da6073a7-56a7-48c0-db18-51f5ff8c80b8",
        "colab": {
          "base_uri": "https://localhost:8080/",
          "height": 34
        }
      },
      "source": [
        "y_train.shape"
      ],
      "execution_count": 0,
      "outputs": [
        {
          "output_type": "execute_result",
          "data": {
            "text/plain": [
              "(455,)"
            ]
          },
          "metadata": {
            "tags": []
          },
          "execution_count": 23
        }
      ]
    },
    {
      "cell_type": "code",
      "metadata": {
        "id": "_9Vgjt9hN4jk",
        "colab_type": "code",
        "outputId": "d6e11907-bc5c-4de5-bd1e-fdfdc6d6eecf",
        "colab": {
          "base_uri": "https://localhost:8080/",
          "height": 34
        }
      },
      "source": [
        "y_test.shape"
      ],
      "execution_count": 0,
      "outputs": [
        {
          "output_type": "execute_result",
          "data": {
            "text/plain": [
              "(114,)"
            ]
          },
          "metadata": {
            "tags": []
          },
          "execution_count": 24
        }
      ]
    },
    {
      "cell_type": "code",
      "metadata": {
        "id": "CByag4tvN9iI",
        "colab_type": "code",
        "colab": {}
      },
      "source": [
        "from sklearn.metrics import accuracy_score\n",
        "from time import time\n",
        "\n",
        "def train_predict(learner, sample_size, X_train, y_train, X_test, y_test):\n",
        "  results = {}\n",
        "  start = time()\n",
        "  learner= learner.fit(X_train[:sample_size],y_train[:sample_size])\n",
        "  end = time()\n",
        "  \n",
        "  results['train_time'] = end- start\n",
        "  \n",
        "  start = time()\n",
        "  pred_test=learner.predict(X_test)\n",
        "  pred_train=learner.predict(X_train)\n",
        "  end= time()\n",
        "  \n",
        "  results['pred_time'] = end-start\n",
        "  \n",
        "  results['acc_train'] = accuracy_score(y_train, pred_train)\n",
        "  results['acc_test'] = accuracy_score(y_test, pred_test)\n",
        "  \n",
        "  results['f_train'] = fbeta_score(y_train, pred_train, beta = 0.5)\n",
        "  results['f_test'] = fbeta_score(y_test, pred_test, beta = 0.5)\n",
        "  \n",
        "  return(results)\n",
        "  \n",
        "  "
      ],
      "execution_count": 0,
      "outputs": []
    },
    {
      "cell_type": "code",
      "metadata": {
        "id": "-9iMUT3POgw8",
        "colab_type": "code",
        "colab": {}
      },
      "source": [
        "from sklearn.linear_model import LogisticRegression\n",
        "from sklearn.ensemble import GradientBoostingClassifier\n",
        "from sklearn.ensemble import RandomForestClassifier"
      ],
      "execution_count": 0,
      "outputs": []
    },
    {
      "cell_type": "code",
      "metadata": {
        "id": "yYlQu4TmQbLJ",
        "colab_type": "code",
        "colab": {}
      },
      "source": [
        "model1=LogisticRegression(random_state=0)\n",
        "model2=GradientBoostingClassifier(random_state=0)\n",
        "model3=RandomForestClassifier(random_state=0)"
      ],
      "execution_count": 0,
      "outputs": []
    },
    {
      "cell_type": "code",
      "metadata": {
        "id": "Y7FHTb10Q6b0",
        "colab_type": "code",
        "outputId": "e22d9bfa-41fb-44d3-db64-5b444df63f89",
        "colab": {
          "base_uri": "https://localhost:8080/",
          "height": 173
        }
      },
      "source": [
        "results={}\n",
        "sample_1=int(len(y_train)*0.05)\n",
        "sample_10=int(len(y_train)*0.1)\n",
        "sample_100=len(y_train)\n",
        "\n",
        "for model in [model1, model2, model3]:\n",
        "  # Getting model name\n",
        "  model_name=model.__class__.__name__\n",
        "  results[model_name]={}\n",
        "  for i, samples in enumerate([sample_1, sample_10, sample_100]):\n",
        "    results[model_name][i]=train_predict(model, samples, X_train, y_train, X_test, y_test)"
      ],
      "execution_count": 0,
      "outputs": [
        {
          "output_type": "stream",
          "text": [
            "/usr/local/lib/python3.6/dist-packages/sklearn/linear_model/logistic.py:432: FutureWarning: Default solver will be changed to 'lbfgs' in 0.22. Specify a solver to silence this warning.\n",
            "  FutureWarning)\n",
            "/usr/local/lib/python3.6/dist-packages/sklearn/linear_model/logistic.py:432: FutureWarning: Default solver will be changed to 'lbfgs' in 0.22. Specify a solver to silence this warning.\n",
            "  FutureWarning)\n",
            "/usr/local/lib/python3.6/dist-packages/sklearn/linear_model/logistic.py:432: FutureWarning: Default solver will be changed to 'lbfgs' in 0.22. Specify a solver to silence this warning.\n",
            "  FutureWarning)\n",
            "/usr/local/lib/python3.6/dist-packages/sklearn/ensemble/forest.py:245: FutureWarning: The default value of n_estimators will change from 10 in version 0.20 to 100 in 0.22.\n",
            "  \"10 in version 0.20 to 100 in 0.22.\", FutureWarning)\n"
          ],
          "name": "stderr"
        }
      ]
    },
    {
      "cell_type": "code",
      "metadata": {
        "id": "tFU5QzCnSpYT",
        "colab_type": "code",
        "outputId": "24570110-e6f2-44fe-d26e-6d2e29a5e6bb",
        "colab": {
          "base_uri": "https://localhost:8080/",
          "height": 54
        }
      },
      "source": [
        "print(results)"
      ],
      "execution_count": 0,
      "outputs": [
        {
          "output_type": "stream",
          "text": [
            "{'LogisticRegression': {0: {'train_time': 0.01423025131225586, 'pred_time': 0.0061609745025634766, 'acc_train': 0.843956043956044, 'acc_test': 0.8157894736842105, 'f_train': 0.8650065530799476, 'f_test': 0.8357348703170029}, 1: {'train_time': 0.0032820701599121094, 'pred_time': 0.0017273426055908203, 'acc_train': 0.9186813186813186, 'acc_test': 0.9298245614035088, 'f_train': 0.917639429312581, 'f_test': 0.9259259259259259}, 2: {'train_time': 0.01264643669128418, 'pred_time': 0.0018429756164550781, 'acc_train': 0.9582417582417583, 'acc_test': 0.956140350877193, 'f_train': 0.9644322845417238, 'f_test': 0.9752321981424149}}, 'GradientBoostingClassifier': {0: {'train_time': 0.021983623504638672, 'pred_time': 0.0023686885833740234, 'acc_train': 0.9032967032967033, 'acc_test': 0.8947368421052632, 'f_train': 0.8957553058676654, 'f_test': 0.8746736292428198}, 1: {'train_time': 0.02919912338256836, 'pred_time': 0.002608060836791992, 'acc_train': 0.9384615384615385, 'acc_test': 0.9385964912280702, 'f_train': 0.9314359637774903, 'f_test': 0.9295774647887323}, 2: {'train_time': 0.16680622100830078, 'pred_time': 0.003496408462524414, 'acc_train': 1.0, 'acc_test': 0.9649122807017544, 'f_train': 1.0, 'f_test': 0.9701492537313433}}, 'RandomForestClassifier': {0: {'train_time': 0.011052370071411133, 'pred_time': 0.0037522315979003906, 'acc_train': 0.8967032967032967, 'acc_test': 0.8947368421052632, 'f_train': 0.8877928483353884, 'f_test': 0.8746736292428198}, 1: {'train_time': 0.00909733772277832, 'pred_time': 0.0036821365356445312, 'acc_train': 0.9230769230769231, 'acc_test': 0.9122807017543859, 'f_train': 0.9255599472990778, 'f_test': 0.9183673469387756}, 2: {'train_time': 0.01617741584777832, 'pred_time': 0.00408935546875, 'acc_train': 0.9978021978021978, 'acc_test': 0.9649122807017544, 'f_train': 0.9993084370677731, 'f_test': 0.9701492537313433}}}\n"
          ],
          "name": "stdout"
        }
      ]
    },
    {
      "cell_type": "code",
      "metadata": {
        "id": "saJ5SJ1xXE1X",
        "colab_type": "code",
        "colab": {}
      },
      "source": [
        "import matplotlib.pyplot as pl\n",
        "import matplotlib.patches as mpatches\n",
        "def evaluate(results):\n",
        "    \"\"\"\n",
        "    Visualization code to display results of various learners.\n",
        "    \n",
        "    inputs:\n",
        "      - learners: a list of supervised learners\n",
        "      - stats: a list of dictionaries of the statistic results from 'train_predict()'\n",
        "      - accuracy: The score for the naive predictor\n",
        "      - f1: The score for the naive predictor\n",
        "    \"\"\"\n",
        "  \n",
        "    # Create figure\n",
        "    fig, ax = pl.subplots(2, 3, figsize = (11,7))\n",
        "\n",
        "    # Constants\n",
        "    bar_width = 0.3\n",
        "    colors = ['#A00000','#00A0A0','#00A000']\n",
        "    \n",
        "    # Super loop to plot four panels of data\n",
        "    for k, learner in enumerate(results.keys()):\n",
        "        for j, metric in enumerate(['train_time', 'acc_train', 'f_train', 'pred_time', 'acc_test', 'f_test']):\n",
        "            for i in np.arange(3):\n",
        "                \n",
        "                # Creative plot code\n",
        "                ax[j//3, j%3].bar(i+k*bar_width, results[learner][i][metric], width = bar_width, color = colors[k])\n",
        "                ax[j//3, j%3].set_xticks([0.45, 1.45, 2.45])\n",
        "                ax[j//3, j%3].set_xticklabels([\"1%\", \"10%\", \"100%\"])\n",
        "                ax[j//3, j%3].set_xlabel(\"Training Set Size\")\n",
        "                ax[j//3, j%3].set_xlim((-0.1, 3.0))\n",
        "    \n",
        "    # Add unique y-labels\n",
        "    ax[0, 0].set_ylabel(\"Time (in seconds)\")\n",
        "    ax[0, 1].set_ylabel(\"Accuracy Score\")\n",
        "    ax[0, 2].set_ylabel(\"F-score\")\n",
        "    ax[1, 0].set_ylabel(\"Time (in seconds)\")\n",
        "    ax[1, 1].set_ylabel(\"Accuracy Score\")\n",
        "    ax[1, 2].set_ylabel(\"F-score\")\n",
        "    \n",
        "    # Add titles\n",
        "    ax[0, 0].set_title(\"Model Training\")\n",
        "    ax[0, 1].set_title(\"Accuracy Score on Training Subset\")\n",
        "    ax[0, 2].set_title(\"F-score on Training Subset\")\n",
        "    ax[1, 0].set_title(\"Model Predicting\")\n",
        "    ax[1, 1].set_title(\"Accuracy Score on Testing Set\")\n",
        "    ax[1, 2].set_title(\"F-score on Testing Set\")\n",
        "    \n",
        "    \n",
        "    # Set y-limits for score panels\n",
        "    ax[0, 1].set_ylim((0, 1))\n",
        "    ax[0, 2].set_ylim((0, 1))\n",
        "    ax[1, 1].set_ylim((0, 1))\n",
        "    ax[1, 2].set_ylim((0, 1))\n",
        "\n",
        "    # Create patches for the legend\n",
        "    patches = []\n",
        "    for i, learner in enumerate(results.keys()):\n",
        "        patches.append(mpatches.Patch(color = colors[i], label = learner))\n",
        "    pl.legend(handles = patches, bbox_to_anchor = (-.80, 2.53), \\\n",
        "               loc = 'upper center', borderaxespad = 0., ncol = 3, fontsize = 'x-large')\n",
        "    \n",
        "    # Aesthetics\n",
        "    pl.suptitle(\"Performance Metrics for Three Supervised Learning Models\", fontsize = 16, y = 1.10)\n",
        "    pl.tight_layout()\n",
        "    pl.show()\n",
        "    \n",
        "\n",
        "def feature_plot(importances, X_train, y_train):\n",
        "    \n",
        "    # Display the five most important features\n",
        "    indices = np.argsort(importances)[::-1]\n",
        "    columns = X_train.columns.values[indices[:5]]\n",
        "    values = importances[indices][:5]\n",
        "\n",
        "    # Creat the plot\n",
        "    fig = pl.figure(figsize = (9,5))\n",
        "    pl.title(\"Normalized Weights for First Five Most Predictive Features\", fontsize = 16)\n",
        "    pl.bar(np.arange(5), values, width = 0.6, align=\"center\", color = '#00A000', \\\n",
        "          label = \"Feature Weight\")\n",
        "    pl.bar(np.arange(5) - 0.3, np.cumsum(values), width = 0.2, align = \"center\", color = '#00A0A0', \\\n",
        "          label = \"Cumulative Feature Weight\")\n",
        "    pl.xticks(np.arange(5), columns)\n",
        "    pl.xlim((-0.5, 4.5))\n",
        "    pl.ylabel(\"Weight\", fontsize = 12)\n",
        "    pl.xlabel(\"Feature\", fontsize = 12)\n",
        "    \n",
        "    pl.legend(loc = 'upper center')\n",
        "    pl.tight_layout()\n",
        "    pl.show()  "
      ],
      "execution_count": 0,
      "outputs": []
    },
    {
      "cell_type": "code",
      "metadata": {
        "id": "txKoBKpmXdyX",
        "colab_type": "code",
        "outputId": "103ca7b1-d32e-4c7f-ec64-acfe60a59c50",
        "colab": {
          "base_uri": "https://localhost:8080/",
          "height": 607
        }
      },
      "source": [
        "import numpy as np\n",
        "evaluate(results)"
      ],
      "execution_count": 0,
      "outputs": [
        {
          "output_type": "stream",
          "text": [
            "/usr/local/lib/python3.6/dist-packages/matplotlib/tight_layout.py:199: UserWarning: Tight layout not applied. tight_layout cannot make axes width small enough to accommodate all axes decorations\n",
            "  warnings.warn('Tight layout not applied. '\n"
          ],
          "name": "stderr"
        },
        {
          "output_type": "display_data",
          "data": {
            "image/png": "[encoded data removed]",
            "text/plain": [
              "<Figure size 792x504 with 6 Axes>"
            ]
          },
          "metadata": {
            "tags": []
          }
        }
      ]
    },
    {
      "cell_type": "code",
      "metadata": {
        "id": "40P_5EOzZSM1",
        "colab_type": "code",
        "colab": {}
      },
      "source": [
        "model2_imp = model2.fit(X_train,y_train).feature_importances_"
      ],
      "execution_count": 0,
      "outputs": []
    },
    {
      "cell_type": "code",
      "metadata": {
        "id": "LKHcs7OJZzVO",
        "colab_type": "code",
        "colab": {}
      },
      "source": [
        "model3_imp = model3.fit(X_train, y_train).feature_importances_"
      ],
      "execution_count": 0,
      "outputs": []
    },
    {
      "cell_type": "code",
      "metadata": {
        "id": "j0w7MNTjZ_h7",
        "colab_type": "code",
        "outputId": "f21de622-4c98-4df5-d75b-8c83d267b3c9",
        "colab": {
          "base_uri": "https://localhost:8080/",
          "height": 369
        }
      },
      "source": [
        "feature_plot(model2_imp, X_train, y_train)"
      ],
      "execution_count": 0,
      "outputs": [
        {
          "output_type": "display_data",
          "data": {
            "image/png": "[encoded data removed]",
            "text/plain": [
              "<Figure size 648x360 with 1 Axes>"
            ]
          },
          "metadata": {
            "tags": []
          }
        }
      ]
    },
    {
      "cell_type": "code",
      "metadata": {
        "id": "wO4z8EqkaAco",
        "colab_type": "code",
        "outputId": "eb65515d-7da7-4bcd-da29-a2eb794155f0",
        "colab": {
          "base_uri": "https://localhost:8080/",
          "height": 369
        }
      },
      "source": [
        "feature_plot(model3_imp, X_train, y_train)"
      ],
      "execution_count": 0,
      "outputs": [
        {
          "output_type": "display_data",
          "data": {
            "image/png": "[encoded data removed]",
            "text/plain": [
              "<Figure size 648x360 with 1 Axes>"
            ]
          },
          "metadata": {
            "tags": []
          }
        }
      ]
    },
    {
      "cell_type": "code",
      "metadata": {
        "id": "ibebPfmDSaVq",
        "colab_type": "code",
        "outputId": "fdf318db-dc43-4816-edac-97190374e268",
        "colab": {
          "base_uri": "https://localhost:8080/",
          "height": 68
        }
      },
      "source": [
        "y_train.value_counts()"
      ],
      "execution_count": 0,
      "outputs": [
        {
          "output_type": "execute_result",
          "data": {
            "text/plain": [
              "1    290\n",
              "0    165\n",
              "Name: has_cancer, dtype: int64"
            ]
          },
          "metadata": {
            "tags": []
          },
          "execution_count": 42
        }
      ]
    },
    {
      "cell_type": "code",
      "metadata": {
        "id": "oyKRlvjTb-QJ",
        "colab_type": "code",
        "outputId": "1493dbf4-657f-45ca-8dc1-17ebb32aaa3a",
        "colab": {
          "base_uri": "https://localhost:8080/",
          "height": 34
        }
      },
      "source": [
        "290/(290+165)"
      ],
      "execution_count": 0,
      "outputs": [
        {
          "output_type": "execute_result",
          "data": {
            "text/plain": [
              "0.6373626373626373"
            ]
          },
          "metadata": {
            "tags": []
          },
          "execution_count": 43
        }
      ]
    },
    {
      "cell_type": "markdown",
      "metadata": {
        "id": "ArjstAtlVn61",
        "colab_type": "text"
      },
      "source": [
        "# Having k-fold cross validation"
      ]
    },
    {
      "cell_type": "code",
      "metadata": {
        "id": "BT1_oZsTVwCd",
        "colab_type": "code",
        "colab": {}
      },
      "source": [
        "from sklearn.model_selection import GridSearchCV\n",
        "from sklearn.metrics import make_scorer\n",
        "from sklearn.model_selection import ShuffleSplit"
      ],
      "execution_count": 0,
      "outputs": []
    },
    {
      "cell_type": "code",
      "metadata": {
        "id": "VSeZ8gK5V7-7",
        "colab_type": "code",
        "colab": {}
      },
      "source": [
        "mymodel = model2"
      ],
      "execution_count": 0,
      "outputs": []
    },
    {
      "cell_type": "code",
      "metadata": {
        "id": "pDt2nke0WVyF",
        "colab_type": "code",
        "colab": {}
      },
      "source": [
        "parameters = {'learning_rate' : [0.1,0.4,0.5], 'max_depth': [2,3,4,5], 'min_samples_leaf': [1,2,3,4]}"
      ],
      "execution_count": 0,
      "outputs": []
    },
    {
      "cell_type": "code",
      "metadata": {
        "id": "Bnejb0XUWr_P",
        "colab_type": "code",
        "colab": {}
      },
      "source": [
        "scorer=make_scorer(fbeta_score, beta=0.5)"
      ],
      "execution_count": 0,
      "outputs": []
    },
    {
      "cell_type": "code",
      "metadata": {
        "id": "RA_fmIrcW29H",
        "colab_type": "code",
        "colab": {}
      },
      "source": [
        "gridobj=GridSearchCV(estimator=mymodel, param_grid= parameters, scoring=scorer)"
      ],
      "execution_count": 0,
      "outputs": []
    },
    {
      "cell_type": "code",
      "metadata": {
        "id": "T56xrO1XXGbG",
        "colab_type": "code",
        "outputId": "1725647f-2bfb-43ae-e2c3-49b80b436c1f",
        "colab": {
          "base_uri": "https://localhost:8080/",
          "height": 71
        }
      },
      "source": [
        "gridfit=gridobj.fit(X_train,y_train)"
      ],
      "execution_count": 0,
      "outputs": [
        {
          "output_type": "stream",
          "text": [
            "/usr/local/lib/python3.6/dist-packages/sklearn/model_selection/_split.py:1978: FutureWarning: The default value of cv will change from 3 to 5 in version 0.22. Specify it explicitly to silence this warning.\n",
            "  warnings.warn(CV_WARNING, FutureWarning)\n"
          ],
          "name": "stderr"
        }
      ]
    },
    {
      "cell_type": "code",
      "metadata": {
        "id": "ur3_cnCTXY6K",
        "colab_type": "code",
        "colab": {}
      },
      "source": [
        "best_model=gridfit.best_estimator_"
      ],
      "execution_count": 0,
      "outputs": []
    },
    {
      "cell_type": "code",
      "metadata": {
        "id": "-iDoOhL-XnSF",
        "colab_type": "code",
        "outputId": "ba6ede72-64c8-4922-f587-59cbe2f50b22",
        "colab": {
          "base_uri": "https://localhost:8080/",
          "height": 187
        }
      },
      "source": [
        "best_model"
      ],
      "execution_count": 0,
      "outputs": [
        {
          "output_type": "execute_result",
          "data": {
            "text/plain": [
              "GradientBoostingClassifier(criterion='friedman_mse', init=None,\n",
              "                           learning_rate=0.5, loss='deviance', max_depth=3,\n",
              "                           max_features=None, max_leaf_nodes=None,\n",
              "                           min_impurity_decrease=0.0, min_impurity_split=None,\n",
              "                           min_samples_leaf=3, min_samples_split=2,\n",
              "                           min_weight_fraction_leaf=0.0, n_estimators=100,\n",
              "                           n_iter_no_change=None, presort='auto',\n",
              "                           random_state=0, subsample=1.0, tol=0.0001,\n",
              "                           validation_fraction=0.1, verbose=0,\n",
              "                           warm_start=False)"
            ]
          },
          "metadata": {
            "tags": []
          },
          "execution_count": 51
        }
      ]
    },
    {
      "cell_type": "code",
      "metadata": {
        "id": "O453U1IXXo3H",
        "colab_type": "code",
        "colab": {}
      },
      "source": [
        "predictions=(mymodel.fit(X_train,y_train)).predict(X_test)"
      ],
      "execution_count": 0,
      "outputs": []
    },
    {
      "cell_type": "code",
      "metadata": {
        "id": "i6UH7EYuYH9r",
        "colab_type": "code",
        "colab": {}
      },
      "source": [
        "best_predictions=best_model.predict(X_test)"
      ],
      "execution_count": 0,
      "outputs": []
    },
    {
      "cell_type": "code",
      "metadata": {
        "id": "HhwhFzayYNUu",
        "colab_type": "code",
        "outputId": "084d3a2c-265f-44ee-d47a-7b5539b44fb5",
        "colab": {
          "base_uri": "https://localhost:8080/",
          "height": 34
        }
      },
      "source": [
        "accuracy_score(y_test,predictions)"
      ],
      "execution_count": 0,
      "outputs": [
        {
          "output_type": "execute_result",
          "data": {
            "text/plain": [
              "0.9649122807017544"
            ]
          },
          "metadata": {
            "tags": []
          },
          "execution_count": 54
        }
      ]
    },
    {
      "cell_type": "code",
      "metadata": {
        "id": "h1-8uVuNYS4A",
        "colab_type": "code",
        "outputId": "aa2c911f-0cb7-4bba-f619-b924dd4aa880",
        "colab": {
          "base_uri": "https://localhost:8080/",
          "height": 34
        }
      },
      "source": [
        "accuracy_score(y_test, best_predictions)"
      ],
      "execution_count": 0,
      "outputs": [
        {
          "output_type": "execute_result",
          "data": {
            "text/plain": [
              "0.9824561403508771"
            ]
          },
          "metadata": {
            "tags": []
          },
          "execution_count": 55
        }
      ]
    },
    {
      "cell_type": "code",
      "metadata": {
        "id": "iLQeoBP4YXUB",
        "colab_type": "code",
        "outputId": "b5737bbe-f89a-41cf-e5fc-c524b9ce4853",
        "colab": {
          "base_uri": "https://localhost:8080/",
          "height": 34
        }
      },
      "source": [
        "fbeta_score(y_test,predictions, beta=0.5)"
      ],
      "execution_count": 0,
      "outputs": [
        {
          "output_type": "execute_result",
          "data": {
            "text/plain": [
              "0.9701492537313433"
            ]
          },
          "metadata": {
            "tags": []
          },
          "execution_count": 56
        }
      ]
    },
    {
      "cell_type": "code",
      "metadata": {
        "id": "7RgayW5BYrMQ",
        "colab_type": "code",
        "outputId": "6416244e-ec47-4284-95de-ab00eb8fdf87",
        "colab": {
          "base_uri": "https://localhost:8080/",
          "height": 34
        }
      },
      "source": [
        "fbeta_score(y_test,best_predictions, beta=0.5)"
      ],
      "execution_count": 0,
      "outputs": [
        {
          "output_type": "execute_result",
          "data": {
            "text/plain": [
              "0.9850746268656716"
            ]
          },
          "metadata": {
            "tags": []
          },
          "execution_count": 57
        }
      ]
    },
    {
      "cell_type": "markdown",
      "metadata": {
        "id": "QrwPqC9_adYf",
        "colab_type": "text"
      },
      "source": [
        "Feature Importances"
      ]
    },
    {
      "cell_type": "code",
      "metadata": {
        "id": "UALA8U5Sagvs",
        "colab_type": "code",
        "outputId": "bd63ed77-f479-4cb8-9c2b-72e0ca0df122",
        "colab": {
          "base_uri": "https://localhost:8080/",
          "height": 153
        }
      },
      "source": [
        "best_model.feature_importances_"
      ],
      "execution_count": 0,
      "outputs": [
        {
          "output_type": "execute_result",
          "data": {
            "text/plain": [
              "array([2.37205122e-07, 1.13605958e-02, 7.05044434e-05, 4.13180834e-03,\n",
              "       2.40215533e-02, 2.13765774e-03, 3.54047765e-04, 1.91383401e-01,\n",
              "       3.16173191e-04, 1.07537973e-04, 4.90933324e-03, 3.14027261e-03,\n",
              "       1.47672187e-03, 1.95224589e-02, 8.34991919e-04, 1.22204290e-04,\n",
              "       2.34570074e-07, 3.30699257e-05, 9.52102314e-07, 1.24614266e-03,\n",
              "       1.82882059e-02, 1.87576314e-02, 3.05933931e-02, 1.21927099e-01,\n",
              "       7.83804737e-04, 1.87670129e-03, 1.86792873e-02, 5.22795216e-01,\n",
              "       9.69682436e-05, 1.03179442e-03])"
            ]
          },
          "metadata": {
            "tags": []
          },
          "execution_count": 58
        }
      ]
    },
    {
      "cell_type": "code",
      "metadata": {
        "id": "MWVC4HG-arI0",
        "colab_type": "code",
        "colab": {}
      },
      "source": [
        "fitmodel=mymodel.fit(X_train,y_train)"
      ],
      "execution_count": 0,
      "outputs": []
    },
    {
      "cell_type": "code",
      "metadata": {
        "id": "u_pv3nxsa1so",
        "colab_type": "code",
        "outputId": "50635c8f-a57e-497a-abb8-440049386ba8",
        "colab": {
          "base_uri": "https://localhost:8080/",
          "height": 153
        }
      },
      "source": [
        "fitmodel.feature_importances_"
      ],
      "execution_count": 0,
      "outputs": [
        {
          "output_type": "execute_result",
          "data": {
            "text/plain": [
              "array([4.86250041e-04, 1.50114461e-02, 4.86312789e-04, 1.10392404e-03,\n",
              "       1.13555843e-02, 1.79830909e-03, 1.03170909e-03, 2.79562213e-01,\n",
              "       8.40024982e-03, 5.00213843e-06, 4.88811828e-03, 3.25362495e-03,\n",
              "       2.44787541e-03, 2.21172848e-02, 1.17286964e-03, 1.52965712e-03,\n",
              "       4.80502830e-03, 3.56230098e-05, 1.13556410e-03, 3.57617050e-03,\n",
              "       1.50178769e-02, 2.73852388e-02, 6.61305444e-02, 9.40252162e-02,\n",
              "       1.08318591e-03, 3.80243226e-03, 1.52228908e-02, 4.11001259e-01,\n",
              "       1.30045845e-04, 1.99849350e-03])"
            ]
          },
          "metadata": {
            "tags": []
          },
          "execution_count": 60
        }
      ]
    },
    {
      "cell_type": "code",
      "metadata": {
        "id": "RjiaAJ6KbG2I",
        "colab_type": "code",
        "outputId": "cc60f8de-cbe6-4018-f20f-48808e7a8bbf",
        "colab": {
          "base_uri": "https://localhost:8080/",
          "height": 34
        }
      },
      "source": [
        "fitmodel.score(X_test,y_test)"
      ],
      "execution_count": 0,
      "outputs": [
        {
          "output_type": "execute_result",
          "data": {
            "text/plain": [
              "0.9649122807017544"
            ]
          },
          "metadata": {
            "tags": []
          },
          "execution_count": 61
        }
      ]
    },
    {
      "cell_type": "code",
      "metadata": {
        "id": "A3bPoT6ScaHj",
        "colab_type": "code",
        "outputId": "473d20d3-d974-4f97-a9ef-131236223e5c",
        "colab": {
          "base_uri": "https://localhost:8080/",
          "height": 369
        }
      },
      "source": [
        "feature_plot(best_model.feature_importances_, X_train, y_train)"
      ],
      "execution_count": 0,
      "outputs": [
        {
          "output_type": "display_data",
          "data": {
            "image/png": "[encoded data removed]",
            "text/plain": [
              "<Figure size 648x360 with 1 Axes>"
            ]
          },
          "metadata": {
            "tags": []
          }
        }
      ]
    },
    {
      "cell_type": "code",
      "metadata": {
        "id": "fHqb2M0xckES",
        "colab_type": "code",
        "outputId": "eb55ddb8-60a1-40c5-9a1e-5f989e153080",
        "colab": {
          "base_uri": "https://localhost:8080/",
          "height": 3060
        }
      },
      "source": [
        "gridfit.cv_results_"
      ],
      "execution_count": 0,
      "outputs": [
        {
          "output_type": "execute_result",
          "data": {
            "text/plain": [
              "{'mean_fit_time': array([0.09055217, 0.08785478, 0.08470893, 0.08635958, 0.12699978,\n",
              "        0.12929543, 0.12369521, 0.12213977, 0.15985847, 0.15624873,\n",
              "        0.15720781, 0.15787999, 0.14927872, 0.15969459, 0.17720143,\n",
              "        0.18197974, 0.07688133, 0.07401919, 0.07136893, 0.07214832,\n",
              "        0.06247616, 0.06001091, 0.06331952, 0.06237594, 0.05979562,\n",
              "        0.05864867, 0.05916341, 0.06171934, 0.05747962, 0.05653405,\n",
              "        0.06157676, 0.06250978, 0.06452219, 0.06444828, 0.06148163,\n",
              "        0.06210256, 0.05687253, 0.05487251, 0.05357178, 0.05366007,\n",
              "        0.05318324, 0.05438685, 0.05406411, 0.05380948, 0.05039716,\n",
              "        0.05058583, 0.05290985, 0.0589939 ]),\n",
              " 'mean_score_time': array([0.00260162, 0.00260162, 0.00262523, 0.00259026, 0.00268118,\n",
              "        0.00269643, 0.00267466, 0.00270987, 0.00291785, 0.00275906,\n",
              "        0.00276184, 0.00276613, 0.00268062, 0.00271948, 0.00278282,\n",
              "        0.00283273, 0.00256252, 0.00256681, 0.00257969, 0.0027492 ,\n",
              "        0.00259519, 0.0029823 , 0.00251079, 0.00256999, 0.00250077,\n",
              "        0.00249974, 0.0025034 , 0.00266202, 0.00250713, 0.00247415,\n",
              "        0.0025119 , 0.00253987, 0.00255497, 0.00255267, 0.00253709,\n",
              "        0.00256419, 0.00254544, 0.00262666, 0.00304   , 0.00257007,\n",
              "        0.00252485, 0.00265646, 0.00250586, 0.00253948, 0.00257786,\n",
              "        0.00249497, 0.00252461, 0.00254361]),\n",
              " 'mean_test_score': array([0.94993812, 0.94991067, 0.95588856, 0.95074894, 0.9431866 ,\n",
              "        0.94657668, 0.94569135, 0.94919926, 0.94502068, 0.94688887,\n",
              "        0.94490661, 0.94229106, 0.9415668 , 0.94666475, 0.9398407 ,\n",
              "        0.95329806, 0.95939933, 0.95087157, 0.94985892, 0.94732055,\n",
              "        0.94229106, 0.94719152, 0.95163517, 0.94801676, 0.95199279,\n",
              "        0.94585921, 0.94824019, 0.94976501, 0.93602955, 0.937455  ,\n",
              "        0.93689389, 0.95564657, 0.95407221, 0.95246017, 0.95143057,\n",
              "        0.95041585, 0.94393487, 0.94728112, 0.95995423, 0.95065652,\n",
              "        0.94152946, 0.94729569, 0.94527007, 0.95510562, 0.93848635,\n",
              "        0.93932462, 0.94172813, 0.95511214]),\n",
              " 'param_learning_rate': masked_array(data=[0.1, 0.1, 0.1, 0.1, 0.1, 0.1, 0.1, 0.1, 0.1, 0.1, 0.1,\n",
              "                    0.1, 0.1, 0.1, 0.1, 0.1, 0.4, 0.4, 0.4, 0.4, 0.4, 0.4,\n",
              "                    0.4, 0.4, 0.4, 0.4, 0.4, 0.4, 0.4, 0.4, 0.4, 0.4, 0.5,\n",
              "                    0.5, 0.5, 0.5, 0.5, 0.5, 0.5, 0.5, 0.5, 0.5, 0.5, 0.5,\n",
              "                    0.5, 0.5, 0.5, 0.5],\n",
              "              mask=[False, False, False, False, False, False, False, False,\n",
              "                    False, False, False, False, False, False, False, False,\n",
              "                    False, False, False, False, False, False, False, False,\n",
              "                    False, False, False, False, False, False, False, False,\n",
              "                    False, False, False, False, False, False, False, False,\n",
              "                    False, False, False, False, False, False, False, False],\n",
              "        fill_value='?',\n",
              "             dtype=object),\n",
              " 'param_max_depth': masked_array(data=[2, 2, 2, 2, 3, 3, 3, 3, 4, 4, 4, 4, 5, 5, 5, 5, 2, 2,\n",
              "                    2, 2, 3, 3, 3, 3, 4, 4, 4, 4, 5, 5, 5, 5, 2, 2, 2, 2,\n",
              "                    3, 3, 3, 3, 4, 4, 4, 4, 5, 5, 5, 5],\n",
              "              mask=[False, False, False, False, False, False, False, False,\n",
              "                    False, False, False, False, False, False, False, False,\n",
              "                    False, False, False, False, False, False, False, False,\n",
              "                    False, False, False, False, False, False, False, False,\n",
              "                    False, False, False, False, False, False, False, False,\n",
              "                    False, False, False, False, False, False, False, False],\n",
              "        fill_value='?',\n",
              "             dtype=object),\n",
              " 'param_min_samples_leaf': masked_array(data=[1, 2, 3, 4, 1, 2, 3, 4, 1, 2, 3, 4, 1, 2, 3, 4, 1, 2,\n",
              "                    3, 4, 1, 2, 3, 4, 1, 2, 3, 4, 1, 2, 3, 4, 1, 2, 3, 4,\n",
              "                    1, 2, 3, 4, 1, 2, 3, 4, 1, 2, 3, 4],\n",
              "              mask=[False, False, False, False, False, False, False, False,\n",
              "                    False, False, False, False, False, False, False, False,\n",
              "                    False, False, False, False, False, False, False, False,\n",
              "                    False, False, False, False, False, False, False, False,\n",
              "                    False, False, False, False, False, False, False, False,\n",
              "                    False, False, False, False, False, False, False, False],\n",
              "        fill_value='?',\n",
              "             dtype=object),\n",
              " 'params': [{'learning_rate': 0.1, 'max_depth': 2, 'min_samples_leaf': 1},\n",
              "  {'learning_rate': 0.1, 'max_depth': 2, 'min_samples_leaf': 2},\n",
              "  {'learning_rate': 0.1, 'max_depth': 2, 'min_samples_leaf': 3},\n",
              "  {'learning_rate': 0.1, 'max_depth': 2, 'min_samples_leaf': 4},\n",
              "  {'learning_rate': 0.1, 'max_depth': 3, 'min_samples_leaf': 1},\n",
              "  {'learning_rate': 0.1, 'max_depth': 3, 'min_samples_leaf': 2},\n",
              "  {'learning_rate': 0.1, 'max_depth': 3, 'min_samples_leaf': 3},\n",
              "  {'learning_rate': 0.1, 'max_depth': 3, 'min_samples_leaf': 4},\n",
              "  {'learning_rate': 0.1, 'max_depth': 4, 'min_samples_leaf': 1},\n",
              "  {'learning_rate': 0.1, 'max_depth': 4, 'min_samples_leaf': 2},\n",
              "  {'learning_rate': 0.1, 'max_depth': 4, 'min_samples_leaf': 3},\n",
              "  {'learning_rate': 0.1, 'max_depth': 4, 'min_samples_leaf': 4},\n",
              "  {'learning_rate': 0.1, 'max_depth': 5, 'min_samples_leaf': 1},\n",
              "  {'learning_rate': 0.1, 'max_depth': 5, 'min_samples_leaf': 2},\n",
              "  {'learning_rate': 0.1, 'max_depth': 5, 'min_samples_leaf': 3},\n",
              "  {'learning_rate': 0.1, 'max_depth': 5, 'min_samples_leaf': 4},\n",
              "  {'learning_rate': 0.4, 'max_depth': 2, 'min_samples_leaf': 1},\n",
              "  {'learning_rate': 0.4, 'max_depth': 2, 'min_samples_leaf': 2},\n",
              "  {'learning_rate': 0.4, 'max_depth': 2, 'min_samples_leaf': 3},\n",
              "  {'learning_rate': 0.4, 'max_depth': 2, 'min_samples_leaf': 4},\n",
              "  {'learning_rate': 0.4, 'max_depth': 3, 'min_samples_leaf': 1},\n",
              "  {'learning_rate': 0.4, 'max_depth': 3, 'min_samples_leaf': 2},\n",
              "  {'learning_rate': 0.4, 'max_depth': 3, 'min_samples_leaf': 3},\n",
              "  {'learning_rate': 0.4, 'max_depth': 3, 'min_samples_leaf': 4},\n",
              "  {'learning_rate': 0.4, 'max_depth': 4, 'min_samples_leaf': 1},\n",
              "  {'learning_rate': 0.4, 'max_depth': 4, 'min_samples_leaf': 2},\n",
              "  {'learning_rate': 0.4, 'max_depth': 4, 'min_samples_leaf': 3},\n",
              "  {'learning_rate': 0.4, 'max_depth': 4, 'min_samples_leaf': 4},\n",
              "  {'learning_rate': 0.4, 'max_depth': 5, 'min_samples_leaf': 1},\n",
              "  {'learning_rate': 0.4, 'max_depth': 5, 'min_samples_leaf': 2},\n",
              "  {'learning_rate': 0.4, 'max_depth': 5, 'min_samples_leaf': 3},\n",
              "  {'learning_rate': 0.4, 'max_depth': 5, 'min_samples_leaf': 4},\n",
              "  {'learning_rate': 0.5, 'max_depth': 2, 'min_samples_leaf': 1},\n",
              "  {'learning_rate': 0.5, 'max_depth': 2, 'min_samples_leaf': 2},\n",
              "  {'learning_rate': 0.5, 'max_depth': 2, 'min_samples_leaf': 3},\n",
              "  {'learning_rate': 0.5, 'max_depth': 2, 'min_samples_leaf': 4},\n",
              "  {'learning_rate': 0.5, 'max_depth': 3, 'min_samples_leaf': 1},\n",
              "  {'learning_rate': 0.5, 'max_depth': 3, 'min_samples_leaf': 2},\n",
              "  {'learning_rate': 0.5, 'max_depth': 3, 'min_samples_leaf': 3},\n",
              "  {'learning_rate': 0.5, 'max_depth': 3, 'min_samples_leaf': 4},\n",
              "  {'learning_rate': 0.5, 'max_depth': 4, 'min_samples_leaf': 1},\n",
              "  {'learning_rate': 0.5, 'max_depth': 4, 'min_samples_leaf': 2},\n",
              "  {'learning_rate': 0.5, 'max_depth': 4, 'min_samples_leaf': 3},\n",
              "  {'learning_rate': 0.5, 'max_depth': 4, 'min_samples_leaf': 4},\n",
              "  {'learning_rate': 0.5, 'max_depth': 5, 'min_samples_leaf': 1},\n",
              "  {'learning_rate': 0.5, 'max_depth': 5, 'min_samples_leaf': 2},\n",
              "  {'learning_rate': 0.5, 'max_depth': 5, 'min_samples_leaf': 3},\n",
              "  {'learning_rate': 0.5, 'max_depth': 5, 'min_samples_leaf': 4}],\n",
              " 'rank_test_score': array([17, 18,  3, 14, 37, 30, 32, 21, 34, 28, 35, 38, 41, 29, 43,  8,  2,\n",
              "        13, 19, 24, 38, 27, 11, 23, 10, 31, 22, 20, 48, 46, 47,  4,  7,  9,\n",
              "        12, 16, 36, 26,  1, 15, 42, 25, 33,  6, 45, 44, 40,  5],\n",
              "       dtype=int32),\n",
              " 'split0_test_score': array([0.94059406, 0.94810379, 0.96348884, 0.94810379, 0.93812375,\n",
              "        0.93812375, 0.93320236, 0.93320236, 0.93561368, 0.92337917,\n",
              "        0.92079208, 0.93069307, 0.9406953 , 0.93812375, 0.92079208,\n",
              "        0.95573441, 0.96348884, 0.96907216, 0.95334686, 0.94810379,\n",
              "        0.93069307, 0.93812375, 0.94567404, 0.93812375, 0.94567404,\n",
              "        0.93812375, 0.93320236, 0.94567404, 0.92079208, 0.92592593,\n",
              "        0.91876209, 0.95573441, 0.96348884, 0.96348884, 0.95573441,\n",
              "        0.94059406, 0.93561368, 0.94059406, 0.95049505, 0.95573441,\n",
              "        0.93069307, 0.94567404, 0.92843327, 0.96114519, 0.92337917,\n",
              "        0.92337917, 0.91617934, 0.95092025]),\n",
              " 'split1_test_score': array([0.94059406, 0.93069307, 0.93320236, 0.93320236, 0.93320236,\n",
              "        0.93069307, 0.93069307, 0.93320236, 0.93320236, 0.94059406,\n",
              "        0.94302554, 0.93320236, 0.93069307, 0.93561368, 0.93812375,\n",
              "        0.93320236, 0.93567251, 0.92592593, 0.93320236, 0.93320236,\n",
              "        0.93320236, 0.93812375, 0.94059406, 0.94059406, 0.94059406,\n",
              "        0.93320236, 0.94059406, 0.94059406, 0.92592593, 0.93567251,\n",
              "        0.92337917, 0.95049505, 0.93567251, 0.93320236, 0.93320236,\n",
              "        0.94302554, 0.93320236, 0.94059406, 0.94810379, 0.93320236,\n",
              "        0.93567251, 0.93320236, 0.92843327, 0.93320236, 0.93069307,\n",
              "        0.93320236, 0.93812375, 0.94810379]),\n",
              " 'split2_test_score': array([0.96875   , 0.97107438, 0.97107438, 0.97107438, 0.95833333,\n",
              "        0.97107438, 0.97336066, 0.98140496, 0.96638655, 0.97689076,\n",
              "        0.97107438, 0.96311475, 0.95338983, 0.96638655, 0.9607438 ,\n",
              "        0.97107438, 0.97916667, 0.95766129, 0.96311475, 0.9607438 ,\n",
              "        0.96311475, 0.96544715, 0.96875   , 0.96544715, 0.96982759,\n",
              "        0.96638655, 0.97107438, 0.96311475, 0.96153846, 0.9508547 ,\n",
              "        0.96875   , 0.9607438 , 0.96311475, 0.9607438 , 0.96544715,\n",
              "        0.96774194, 0.96311475, 0.9607438 , 0.98140496, 0.96311475,\n",
              "        0.95833333, 0.96311475, 0.97916667, 0.97107438, 0.96153846,\n",
              "        0.96153846, 0.97107438, 0.96638655]),\n",
              " 'std_fit_time': array([0.00116348, 0.0011428 , 0.00048465, 0.00311745, 0.00115838,\n",
              "        0.00400928, 0.00155154, 0.00181646, 0.02802611, 0.00717687,\n",
              "        0.00368212, 0.00329661, 0.0106459 , 0.01021621, 0.00987961,\n",
              "        0.00277621, 0.00542406, 0.00458708, 0.00494261, 0.00470692,\n",
              "        0.00281705, 0.00086403, 0.0044404 , 0.00214039, 0.002842  ,\n",
              "        0.00099753, 0.00225647, 0.00301816, 0.0056405 , 0.00392636,\n",
              "        0.00143109, 0.00099905, 0.00259565, 0.00397231, 0.00574679,\n",
              "        0.00411669, 0.00201129, 0.00190357, 0.00249578, 0.00285502,\n",
              "        0.00261283, 0.00159431, 0.00151758, 0.00294553, 0.00626066,\n",
              "        0.00285654, 0.0026882 , 0.00121035]),\n",
              " 'std_score_time': array([2.24704504e-05, 3.22021046e-05, 6.43120583e-05, 1.61590038e-05,\n",
              "        2.39151253e-05, 4.83566066e-05, 1.41951965e-05, 5.50683267e-05,\n",
              "        3.91510716e-04, 2.57641647e-05, 3.81832149e-05, 1.88968346e-05,\n",
              "        2.78520344e-05, 2.82753668e-05, 2.30079076e-05, 7.17758287e-05,\n",
              "        1.94697153e-05, 2.67454217e-05, 3.42178424e-05, 1.62627455e-04,\n",
              "        1.12415477e-04, 6.38539982e-04, 1.59342588e-06, 3.34139667e-05,\n",
              "        2.11759010e-05, 1.81138854e-05, 2.36214944e-05, 1.70145286e-04,\n",
              "        4.83299545e-05, 9.69503744e-06, 1.10057717e-05, 2.90525210e-05,\n",
              "        2.90977045e-05, 8.77590546e-06, 2.59911489e-05, 6.72106443e-05,\n",
              "        9.61654442e-06, 1.81727306e-04, 7.19616743e-04, 2.19727726e-05,\n",
              "        1.84585875e-05, 2.02825232e-04, 9.74960657e-06, 2.99461919e-05,\n",
              "        9.60645101e-05, 1.32750605e-05, 3.43388975e-05, 3.33975178e-06]),\n",
              " 'std_test_score': array([0.01325818, 0.01652608, 0.01636339, 0.01556576, 0.0108629 ,\n",
              "        0.01753047, 0.01952764, 0.02269783, 0.01509039, 0.02228444,\n",
              "        0.02055948, 0.01471185, 0.00928132, 0.01393728, 0.01634647,\n",
              "        0.01554866, 0.01798138, 0.01827147, 0.01245242, 0.01125119,\n",
              "        0.01471185, 0.01286615, 0.01223951, 0.01232595, 0.01273987,\n",
              "        0.01460635, 0.0163741 , 0.00963494, 0.01810012, 0.01024953,\n",
              "        0.02253061, 0.00418218, 0.01303289, 0.01368569, 0.01350509,\n",
              "        0.01225139, 0.01355342, 0.00948819, 0.01514954, 0.01272379,\n",
              "        0.01201657, 0.01225883, 0.02388954, 0.01603376, 0.01651929,\n",
              "        0.01616237, 0.02254338, 0.00802889])}"
            ]
          },
          "metadata": {
            "tags": []
          },
          "execution_count": 63
        }
      ]
    },
    {
      "cell_type": "code",
      "metadata": {
        "id": "fnTr7yeyc83N",
        "colab_type": "code",
        "colab": {}
      },
      "source": [
        ""
      ],
      "execution_count": 0,
      "outputs": []
    },
    {
      "cell_type": "markdown",
      "metadata": {
        "id": "CzArHkdReyVm",
        "colab_type": "text"
      },
      "source": [
        "# Finding probability boundaries"
      ]
    },
    {
      "cell_type": "code",
      "metadata": {
        "id": "g_uZuVite5QN",
        "colab_type": "code",
        "colab": {}
      },
      "source": [
        "from sklearn.metrics import roc_curve, roc_auc_score"
      ],
      "execution_count": 0,
      "outputs": []
    },
    {
      "cell_type": "code",
      "metadata": {
        "id": "A3Z6lJgnfBLp",
        "colab_type": "code",
        "colab": {}
      },
      "source": [
        "p1=model1.predict_proba(X_train)[:,1]\n",
        "p2=model2.predict_proba(X_train)[:,1]\n",
        "p3=model3.predict_proba(X_train)[:,1]\n",
        "p4=best_model.predict_proba(X_train)[:,1]\n",
        "\n"
      ],
      "execution_count": 0,
      "outputs": []
    },
    {
      "cell_type": "code",
      "metadata": {
        "id": "vZwKTFZffbg8",
        "colab_type": "code",
        "outputId": "238d7bb7-9e97-4db3-c4fb-b62eb8d68ef6",
        "colab": {
          "base_uri": "https://localhost:8080/",
          "height": 1564
        }
      },
      "source": [
        "np.set_printoptions(suppress=True)\n",
        "p1"
      ],
      "execution_count": 0,
      "outputs": [
        {
          "output_type": "execute_result",
          "data": {
            "text/plain": [
              "array([0.99500854, 0.87763942, 0.94678514, 0.99950819, 0.81532698,\n",
              "       0.99584777, 0.99229772, 0.9982824 , 0.04735119, 0.99434538,\n",
              "       0.00000003, 0.96253668, 0.43057711, 0.99959216, 0.9991816 ,\n",
              "       0.99871596, 0.00000228, 0.98842021, 0.99790574, 0.88577847,\n",
              "       0.9072291 , 0.99977987, 0.71475939, 0.07997589, 0.        ,\n",
              "       0.9992869 , 0.99821238, 0.999542  , 0.        , 0.99475745,\n",
              "       0.9988763 , 0.00000001, 0.94827268, 0.14818529, 0.98881937,\n",
              "       0.9913228 , 0.99537342, 0.89394534, 0.94773084, 0.89480423,\n",
              "       0.99919374, 0.030084  , 0.95777804, 0.02782224, 0.99732141,\n",
              "       0.00000026, 0.00000075, 0.99712303, 0.7326305 , 0.00005369,\n",
              "       0.99851774, 0.00614793, 0.014067  , 0.0006958 , 0.94625136,\n",
              "       0.98691096, 0.99907703, 0.99727945, 0.99947331, 0.99202643,\n",
              "       0.0011343 , 0.99814886, 0.99745448, 0.99432746, 0.99967756,\n",
              "       0.01417991, 0.        , 0.92720475, 0.86772869, 0.00486041,\n",
              "       0.99967764, 0.99917256, 0.7901091 , 0.99854894, 0.        ,\n",
              "       0.99748146, 0.99862809, 0.00000047, 0.08480477, 0.99641999,\n",
              "       0.9978439 , 0.        , 0.        , 0.99693208, 0.9941963 ,\n",
              "       0.56525207, 0.96602679, 0.99939327, 0.00645679, 0.        ,\n",
              "       0.00000522, 0.99959186, 0.93524416, 0.99867745, 0.00000002,\n",
              "       0.99676813, 0.96039052, 0.99974969, 0.99952119, 0.99660142,\n",
              "       0.        , 0.99796611, 0.        , 0.99502136, 0.00000885,\n",
              "       0.99483377, 0.11115575, 0.99489541, 0.00103711, 0.99139528,\n",
              "       0.87400267, 0.99906975, 0.98802827, 0.00020143, 0.99714409,\n",
              "       0.        , 0.99315134, 0.99490865, 0.99582446, 0.        ,\n",
              "       0.84816772, 0.99772844, 0.98549942, 0.01284642, 0.99993693,\n",
              "       0.41488195, 0.0002067 , 0.00000474, 0.94466421, 0.        ,\n",
              "       0.9943332 , 0.17362063, 0.99649713, 0.32175613, 0.15306675,\n",
              "       0.00008949, 0.24697994, 0.84575192, 0.86293183, 0.99842847,\n",
              "       0.        , 0.99584689, 0.01848323, 0.99517868, 0.00000205,\n",
              "       0.9978325 , 0.99794296, 0.00000007, 0.97790402, 0.96719529,\n",
              "       0.99483068, 0.88884473, 0.98849867, 0.39020971, 0.99594628,\n",
              "       0.99965797, 0.99604329, 0.97304563, 0.99922363, 0.98365758,\n",
              "       0.99977869, 0.        , 0.9594205 , 0.998198  , 0.99855187,\n",
              "       0.09651791, 0.99493105, 0.99462972, 0.62494652, 0.99707848,\n",
              "       0.95911451, 0.9980823 , 0.        , 0.99805332, 0.00000001,\n",
              "       0.9981994 , 0.98647173, 0.47596189, 0.99835353, 0.06418185,\n",
              "       0.01321988, 0.98985166, 0.10870889, 0.00000004, 0.98503037,\n",
              "       0.97249297, 0.68228232, 0.99839489, 0.99948638, 0.99800102,\n",
              "       0.00000004, 0.9961105 , 0.95067858, 0.9732042 , 0.98640596,\n",
              "       0.16059925, 0.        , 0.00000016, 0.9671688 , 0.99759577,\n",
              "       0.97748777, 0.97985252, 0.01617231, 0.        , 0.99625856,\n",
              "       0.99532397, 0.95213826, 0.95841855, 0.4168656 , 0.94426056,\n",
              "       0.91579192, 0.        , 0.94279155, 0.40217031, 0.5754756 ,\n",
              "       0.99445276, 0.00781918, 0.99472521, 0.88499748, 0.92430807,\n",
              "       0.97118138, 0.        , 0.        , 0.95607611, 0.70027364,\n",
              "       0.99926388, 0.00030462, 0.9997766 , 0.00344751, 0.        ,\n",
              "       0.91180063, 0.98583698, 0.98885974, 0.21253385, 0.99173087,\n",
              "       0.00001033, 0.94432165, 0.99809373, 0.00003927, 0.96820337,\n",
              "       0.99551569, 0.00076599, 0.        , 0.99743663, 0.95942282,\n",
              "       0.99988937, 0.        , 0.72280949, 0.95963805, 0.99818972,\n",
              "       0.08658296, 0.99363385, 0.79433948, 0.99938321, 0.00012761,\n",
              "       0.99747824, 0.        , 0.97872186, 0.        , 0.01005435,\n",
              "       0.00000145, 0.00000042, 0.9978256 , 0.99987441, 0.96592228,\n",
              "       0.9994885 , 0.49376592, 0.00059549, 0.4604089 , 0.98678652,\n",
              "       0.97484973, 0.99898909, 0.99879651, 0.73179768, 0.99969239,\n",
              "       0.99584777, 0.00000078, 0.99056493, 0.90397247, 0.00000019,\n",
              "       0.0000007 , 0.00089492, 0.00035723, 0.99415447, 0.90432967,\n",
              "       0.00000002, 0.99590524, 0.98571005, 0.93198425, 0.00023417,\n",
              "       0.08285401, 0.94993941, 0.94781599, 0.98126285, 0.98705065,\n",
              "       0.99961541, 0.00000009, 0.00000001, 0.        , 0.83237724,\n",
              "       0.00005844, 0.        , 0.80964442, 0.93677273, 0.77405379,\n",
              "       0.99865747, 0.98085996, 0.97301453, 0.00187962, 0.9999485 ,\n",
              "       0.99133348, 0.99482778, 0.67861678, 0.99941756, 0.97291234,\n",
              "       0.42344061, 0.00000133, 0.98475402, 0.        , 0.92233819,\n",
              "       0.        , 0.35496994, 0.99718756, 0.90035006, 0.99973183,\n",
              "       0.9983273 , 0.99952845, 0.00000002, 0.00005724, 0.00000649,\n",
              "       0.93677137, 0.99961733, 0.        , 0.00000696, 0.99639825,\n",
              "       0.24473889, 0.52278939, 0.98819631, 0.04818659, 0.00630775,\n",
              "       0.99418478, 0.41064142, 0.9995975 , 0.99278696, 0.99019075,\n",
              "       0.91942047, 0.9972744 , 0.99944285, 0.99895174, 0.        ,\n",
              "       0.00048251, 0.99502959, 0.9983738 , 0.99423449, 0.00034915,\n",
              "       0.95681811, 0.88466613, 0.99629634, 0.99543643, 0.        ,\n",
              "       0.97639668, 0.03164515, 0.01528082, 0.00031622, 0.98559046,\n",
              "       0.        , 0.95839133, 0.00202837, 0.9759047 , 0.        ,\n",
              "       0.        , 0.99839881, 0.99844357, 0.98420268, 0.99898484,\n",
              "       0.99578038, 0.99910802, 0.99806324, 0.99607186, 0.        ,\n",
              "       0.        , 0.00459378, 0.00248191, 0.00000004, 0.95194958,\n",
              "       0.9907738 , 0.98750596, 0.99944628, 0.99127087, 0.97984929,\n",
              "       0.98823467, 0.        , 0.99124596, 0.00070434, 0.99441013,\n",
              "       0.99918914, 0.92213709, 0.947407  , 0.97465891, 0.        ,\n",
              "       0.00095163, 0.27077413, 0.98530194, 0.00000038, 0.98556245,\n",
              "       0.99555047, 0.91785456, 0.        , 0.02110517, 0.00874572,\n",
              "       0.85036622, 0.00951439, 0.00000389, 0.02732374, 0.993721  ,\n",
              "       0.        , 0.99724439, 0.0000003 , 0.99894377, 0.9806205 ,\n",
              "       0.00003789, 0.75914288, 0.98814376, 0.00000007, 0.999137  ,\n",
              "       0.98230529, 0.99932916, 0.98056015, 0.0002019 , 0.95076654,\n",
              "       0.98574433, 0.        , 0.99592582, 0.91018083, 0.87039326,\n",
              "       0.09074287, 0.41168358, 0.63187048, 0.99688668, 0.9523365 ,\n",
              "       0.        , 0.97922374, 0.99963775, 0.00000363, 0.99525869,\n",
              "       0.90660767, 0.99977541, 0.96053391, 0.84594668, 0.        ,\n",
              "       0.23343241, 0.0063165 , 0.87245702, 0.99999008, 0.96942117])"
            ]
          },
          "metadata": {
            "tags": []
          },
          "execution_count": 78
        }
      ]
    },
    {
      "cell_type": "code",
      "metadata": {
        "id": "KAaC4lwsfdib",
        "colab_type": "code",
        "colab": {}
      },
      "source": [
        "fpr, tpr, thresholds = roc_curve(y_train, p1)"
      ],
      "execution_count": 0,
      "outputs": []
    },
    {
      "cell_type": "code",
      "metadata": {
        "id": "Nv8IYHvKged-",
        "colab_type": "code",
        "outputId": "664adf01-73cd-4c0f-c4f1-f8af815575b6",
        "colab": {
          "base_uri": "https://localhost:8080/",
          "height": 238
        }
      },
      "source": [
        "print(fpr, tpr, thresholds)"
      ],
      "execution_count": 0,
      "outputs": [
        {
          "output_type": "stream",
          "text": [
            "[0.         0.         0.         0.00606061 0.00606061 0.01212121\n",
            " 0.01212121 0.01818182 0.01818182 0.02424242 0.02424242 0.03636364\n",
            " 0.03636364 0.04848485 0.04848485 0.07878788 0.07878788 0.09090909\n",
            " 0.09090909 0.1030303  0.1030303  0.12727273 0.12727273 0.13333333\n",
            " 0.13333333 0.13939394 0.13939394 1.        ] [0.         0.00344828 0.76896552 0.76896552 0.85517241 0.85517241\n",
            " 0.92068966 0.92068966 0.95517241 0.95517241 0.95862069 0.95862069\n",
            " 0.96206897 0.96206897 0.97241379 0.97241379 0.97931034 0.97931034\n",
            " 0.98275862 0.98275862 0.98965517 0.98965517 0.99310345 0.99310345\n",
            " 0.99655172 0.99655172 1.         1.        ] [1.99999008 0.99999008 0.95681811 0.95607611 0.91942047 0.91785456\n",
            " 0.86772869 0.86293183 0.77405379 0.75914288 0.7326305  0.72280949\n",
            " 0.71475939 0.68228232 0.62494652 0.47596189 0.43057711 0.4168656\n",
            " 0.41488195 0.41064142 0.39020971 0.24697994 0.24473889 0.23343241\n",
            " 0.21253385 0.17362063 0.16059925 0.        ]\n"
          ],
          "name": "stdout"
        }
      ]
    },
    {
      "cell_type": "code",
      "metadata": {
        "id": "T3-lH1oLgitr",
        "colab_type": "code",
        "colab": {}
      },
      "source": [
        "auc1 = roc_auc_score(y_train, p1)\n",
        "auc2 = roc_auc_score(y_train, p2)\n",
        "auc3 = roc_auc_score(y_train, p3)\n",
        "auc4 = roc_auc_score(y_train, p4)"
      ],
      "execution_count": 0,
      "outputs": []
    },
    {
      "cell_type": "code",
      "metadata": {
        "id": "cpDSKLHQgyCm",
        "colab_type": "code",
        "outputId": "ad6b0f5f-4c2e-44a7-c1e1-2f4c2e3f8d4d",
        "colab": {
          "base_uri": "https://localhost:8080/",
          "height": 34
        }
      },
      "source": [
        "print(auc1, auc2, auc3, auc4)"
      ],
      "execution_count": 0,
      "outputs": [
        {
          "output_type": "stream",
          "text": [
            "0.9943991640543365 1.0 0.9999895506792058 1.0\n"
          ],
          "name": "stdout"
        }
      ]
    },
    {
      "cell_type": "code",
      "metadata": {
        "id": "uhBGei8yg5O6",
        "colab_type": "code",
        "colab": {}
      },
      "source": [
        ""
      ],
      "execution_count": 0,
      "outputs": []
    },
    {
      "cell_type": "markdown",
      "metadata": {
        "id": "SnBJ9vrphdXl",
        "colab_type": "text"
      },
      "source": [
        "Creating AUC-ROC curve"
      ]
    },
    {
      "cell_type": "code",
      "metadata": {
        "id": "MiAnK0rPhhan",
        "colab_type": "code",
        "outputId": "66483679-784c-4869-c825-8516c9e89b66",
        "colab": {
          "base_uri": "https://localhost:8080/",
          "height": 286
        }
      },
      "source": [
        "pl.plot([0,1],[0,1], linestyle='--')\n",
        "pl.plot(fpr, tpr, marker='.')"
      ],
      "execution_count": 0,
      "outputs": [
        {
          "output_type": "execute_result",
          "data": {
            "text/plain": [
              "[<matplotlib.lines.Line2D at 0x7f440613ef28>]"
            ]
          },
          "metadata": {
            "tags": []
          },
          "execution_count": 88
        },
        {
          "output_type": "display_data",
          "data": {
            "image/png": "[encoded data removed]",
            "text/plain": [
              "<Figure size 432x288 with 1 Axes>"
            ]
          },
          "metadata": {
            "tags": []
          }
        }
      ]
    },
    {
      "cell_type": "code",
      "metadata": {
        "id": "d-1RD_guh50x",
        "colab_type": "code",
        "colab": {}
      },
      "source": [
        "fpr2, tpr2, thresholds2 = roc_curve(y_train, p2)\n",
        "fpr3, tpr3, thresholds3 = roc_curve(y_train, p3)\n",
        "fpr4, tpr4, thresholds4 = roc_curve(y_train, p4)"
      ],
      "execution_count": 0,
      "outputs": []
    },
    {
      "cell_type": "code",
      "metadata": {
        "id": "D9KzgU-Kif1B",
        "colab_type": "code",
        "outputId": "1633bd28-6f09-4073-97f0-9a38f1a44b59",
        "colab": {
          "base_uri": "https://localhost:8080/",
          "height": 286
        }
      },
      "source": [
        "pl.plot([0,1],[0,1], linestyle='--')\n",
        "pl.plot(fpr2, tpr2, marker='.')"
      ],
      "execution_count": 0,
      "outputs": [
        {
          "output_type": "execute_result",
          "data": {
            "text/plain": [
              "[<matplotlib.lines.Line2D at 0x7f4406136390>]"
            ]
          },
          "metadata": {
            "tags": []
          },
          "execution_count": 90
        },
        {
          "output_type": "display_data",
          "data": {
            "image/png": "[encoded data removed]",
            "text/plain": [
              "<Figure size 432x288 with 1 Axes>"
            ]
          },
          "metadata": {
            "tags": []
          }
        }
      ]
    },
    {
      "cell_type": "code",
      "metadata": {
        "id": "yuYDSqIbilb2",
        "colab_type": "code",
        "outputId": "4e9a2e45-0d6f-46b3-d70d-cb57eda0840c",
        "colab": {
          "base_uri": "https://localhost:8080/",
          "height": 255
        }
      },
      "source": [
        "thresholds2"
      ],
      "execution_count": 0,
      "outputs": [
        {
          "output_type": "execute_result",
          "data": {
            "text/plain": [
              "array([1.99977503, 0.99977503, 0.99976072, 0.99975554, 0.99973995,\n",
              "       0.99972921, 0.9997154 , 0.99971199, 0.99971145, 0.99970966,\n",
              "       0.99969638, 0.99968699, 0.99966101, 0.99965955, 0.99960587,\n",
              "       0.99959403, 0.99958258, 0.99955997, 0.99954675, 0.99953693,\n",
              "       0.999515  , 0.99951137, 0.9994779 , 0.99946915, 0.99945883,\n",
              "       0.99945852, 0.99945447, 0.99940868, 0.99940487, 0.99940377,\n",
              "       0.9993844 , 0.99932654, 0.99928373, 0.99924629, 0.99924454,\n",
              "       0.99908527, 0.99907206, 0.99888505, 0.99885058, 0.98288906,\n",
              "       0.00126399, 0.00121805, 0.00096872, 0.00094028, 0.00084075,\n",
              "       0.00077545, 0.00076109, 0.00064677, 0.00063704, 0.000586  ,\n",
              "       0.0005859 , 0.00050214, 0.00050125, 0.00049071, 0.00048929,\n",
              "       0.00044714, 0.00044667, 0.00044663, 0.000436  , 0.00042885,\n",
              "       0.00042554, 0.00041408, 0.00041333, 0.00040868, 0.00040861,\n",
              "       0.00039688, 0.0003836 , 0.00038154, 0.00032028])"
            ]
          },
          "metadata": {
            "tags": []
          },
          "execution_count": 92
        }
      ]
    },
    {
      "cell_type": "code",
      "metadata": {
        "id": "ilf7u5j5iuzV",
        "colab_type": "code",
        "colab": {}
      },
      "source": [
        "cutoffs=np.linspace(0.01,0.99,99)"
      ],
      "execution_count": 0,
      "outputs": []
    },
    {
      "cell_type": "code",
      "metadata": {
        "id": "jbHaPkErkfry",
        "colab_type": "code",
        "outputId": "8bb85bac-a6c3-4176-ad2a-aa75525893b5",
        "colab": {
          "base_uri": "https://localhost:8080/",
          "height": 153
        }
      },
      "source": [
        "print(cutoffs)"
      ],
      "execution_count": 0,
      "outputs": [
        {
          "output_type": "stream",
          "text": [
            "[0.01 0.02 0.03 0.04 0.05 0.06 0.07 0.08 0.09 0.1  0.11 0.12 0.13 0.14\n",
            " 0.15 0.16 0.17 0.18 0.19 0.2  0.21 0.22 0.23 0.24 0.25 0.26 0.27 0.28\n",
            " 0.29 0.3  0.31 0.32 0.33 0.34 0.35 0.36 0.37 0.38 0.39 0.4  0.41 0.42\n",
            " 0.43 0.44 0.45 0.46 0.47 0.48 0.49 0.5  0.51 0.52 0.53 0.54 0.55 0.56\n",
            " 0.57 0.58 0.59 0.6  0.61 0.62 0.63 0.64 0.65 0.66 0.67 0.68 0.69 0.7\n",
            " 0.71 0.72 0.73 0.74 0.75 0.76 0.77 0.78 0.79 0.8  0.81 0.82 0.83 0.84\n",
            " 0.85 0.86 0.87 0.88 0.89 0.9  0.91 0.92 0.93 0.94 0.95 0.96 0.97 0.98\n",
            " 0.99]\n"
          ],
          "name": "stdout"
        }
      ]
    },
    {
      "cell_type": "code",
      "metadata": {
        "id": "o8EQjcBAkj_E",
        "colab_type": "code",
        "colab": {}
      },
      "source": [
        "KS_all=[]\n",
        "\n",
        "for cutoff in cutoffs:\n",
        "  \n",
        "  predicted=(p1>cutoff).astype(int)\n",
        "  \n",
        "  TP = ((predicted==1) & (y_train==1)).sum()\n",
        "  FP = ((predicted==1) & (y_train==0)).sum()\n",
        "  TN = ((predicted==0) & (y_train==0)).sum()\n",
        "  FN = ((predicted==0) & (y_train==1)).sum()\n",
        "  \n",
        "  P=TP+FN\n",
        "  N=TN+FP\n",
        "        \n",
        "  KS=(TP/P)-(FP/N)\n",
        "        \n",
        "  KS_all.append(KS)      \n",
        "  "
      ],
      "execution_count": 0,
      "outputs": []
    },
    {
      "cell_type": "code",
      "metadata": {
        "id": "izcmshUXmc7q",
        "colab_type": "code",
        "outputId": "17b0178a-1c2a-4fdb-9a43-8f0ba70aa08e",
        "colab": {
          "base_uri": "https://localhost:8080/",
          "height": 1700
        }
      },
      "source": [
        "KS_all"
      ],
      "execution_count": 0,
      "outputs": [
        {
          "output_type": "execute_result",
          "data": {
            "text/plain": [
              "[0.703030303030303,\n",
              " 0.7515151515151515,\n",
              " 0.7696969696969697,\n",
              " 0.7818181818181819,\n",
              " 0.793939393939394,\n",
              " 0.793939393939394,\n",
              " 0.8,\n",
              " 0.806060606060606,\n",
              " 0.8242424242424242,\n",
              " 0.8363636363636364,\n",
              " 0.8424242424242424,\n",
              " 0.8484848484848485,\n",
              " 0.8484848484848485,\n",
              " 0.8484848484848485,\n",
              " 0.8545454545454545,\n",
              " 0.8606060606060606,\n",
              " 0.8571577847439916,\n",
              " 0.8632183908045977,\n",
              " 0.8632183908045977,\n",
              " 0.8632183908045977,\n",
              " 0.8632183908045977,\n",
              " 0.8597701149425288,\n",
              " 0.8597701149425288,\n",
              " 0.8658307210031349,\n",
              " 0.8684430512016719,\n",
              " 0.8684430512016719,\n",
              " 0.8684430512016719,\n",
              " 0.874503657262278,\n",
              " 0.874503657262278,\n",
              " 0.874503657262278,\n",
              " 0.874503657262278,\n",
              " 0.874503657262278,\n",
              " 0.880564263322884,\n",
              " 0.880564263322884,\n",
              " 0.880564263322884,\n",
              " 0.88662486938349,\n",
              " 0.88662486938349,\n",
              " 0.88662486938349,\n",
              " 0.88662486938349,\n",
              " 0.8831765935214211,\n",
              " 0.8797283176593521,\n",
              " 0.8944618599791013,\n",
              " 0.9005224660397074,\n",
              " 0.8970741901776385,\n",
              " 0.8970741901776385,\n",
              " 0.8970741901776385,\n",
              " 0.8936259143155695,\n",
              " 0.8996865203761755,\n",
              " 0.8996865203761755,\n",
              " 0.9057471264367816,\n",
              " 0.9057471264367816,\n",
              " 0.9057471264367816,\n",
              " 0.9118077324973877,\n",
              " 0.9118077324973877,\n",
              " 0.9118077324973877,\n",
              " 0.9118077324973877,\n",
              " 0.9178683385579937,\n",
              " 0.9239289446185998,\n",
              " 0.9239289446185998,\n",
              " 0.9239289446185998,\n",
              " 0.9239289446185998,\n",
              " 0.9239289446185998,\n",
              " 0.9204806687565309,\n",
              " 0.9170323928944619,\n",
              " 0.9170323928944619,\n",
              " 0.9170323928944619,\n",
              " 0.9170323928944619,\n",
              " 0.913584117032393,\n",
              " 0.9196447230929989,\n",
              " 0.9196447230929989,\n",
              " 0.925705329153605,\n",
              " 0.9222570532915361,\n",
              " 0.9283176593521422,\n",
              " 0.9309299895506792,\n",
              " 0.9309299895506792,\n",
              " 0.9369905956112853,\n",
              " 0.9369905956112853,\n",
              " 0.9335423197492163,\n",
              " 0.9335423197492163,\n",
              " 0.9266457680250784,\n",
              " 0.9231974921630094,\n",
              " 0.9197492163009404,\n",
              " 0.9197492163009404,\n",
              " 0.9163009404388714,\n",
              " 0.9059561128526645,\n",
              " 0.9025078369905956,\n",
              " 0.9051201671891327,\n",
              " 0.8913270637408569,\n",
              " 0.877533960292581,\n",
              " 0.8706374085684431,\n",
              " 0.8533960292580982,\n",
              " 0.8456635318704284,\n",
              " 0.8318704284221525,\n",
              " 0.8180773249738766,\n",
              " 0.780146290491118,\n",
              " 0.7413793103448276,\n",
              " 0.7103448275862069,\n",
              " 0.6551724137931034,\n",
              " 0.5482758620689655]"
            ]
          },
          "metadata": {
            "tags": []
          },
          "execution_count": 106
        }
      ]
    },
    {
      "cell_type": "code",
      "metadata": {
        "id": "y5srSRcxmpRo",
        "colab_type": "code",
        "outputId": "3421f7ab-5558-46e4-ab02-6a0df42cc0ef",
        "colab": {
          "base_uri": "https://localhost:8080/",
          "height": 34
        }
      },
      "source": [
        "mycutoff = cutoffs[KS_all==max(KS_all)][0]\n",
        "mycutoff"
      ],
      "execution_count": 0,
      "outputs": [
        {
          "output_type": "execute_result",
          "data": {
            "text/plain": [
              "0.76"
            ]
          },
          "metadata": {
            "tags": []
          },
          "execution_count": 107
        }
      ]
    },
    {
      "cell_type": "code",
      "metadata": {
        "id": "lpEQjHMFnMpX",
        "colab_type": "code",
        "outputId": "f8454e11-6571-4e4d-a9aa-59e796b303ea",
        "colab": {
          "base_uri": "https://localhost:8080/",
          "height": 34
        }
      },
      "source": [
        "KS_all=[]\n",
        "\n",
        "for cutoff in cutoffs:\n",
        "  \n",
        "  predicted=(p2>cutoff).astype(int)\n",
        "  \n",
        "  TP = ((predicted==1) & (y_train==1)).sum()\n",
        "  FP = ((predicted==1) & (y_train==0)).sum()\n",
        "  TN = ((predicted==0) & (y_train==0)).sum()\n",
        "  FN = ((predicted==0) & (y_train==1)).sum()\n",
        "  \n",
        "  P=TP+FN\n",
        "  N=TN+FP\n",
        "        \n",
        "  KS=(TP/P)-(FP/N)\n",
        "        \n",
        "  KS_all.append(KS)\n",
        "  \n",
        "mycutoff = cutoffs[KS_all==max(KS_all)][0]\n",
        "mycutoff  "
      ],
      "execution_count": 0,
      "outputs": [
        {
          "output_type": "execute_result",
          "data": {
            "text/plain": [
              "0.060000000000000005"
            ]
          },
          "metadata": {
            "tags": []
          },
          "execution_count": 108
        }
      ]
    },
    {
      "cell_type": "code",
      "metadata": {
        "id": "T5p-g8v6na8W",
        "colab_type": "code",
        "colab": {}
      },
      "source": [
        "train_pred = (p2>mycutoff).astype(int)"
      ],
      "execution_count": 0,
      "outputs": []
    },
    {
      "cell_type": "code",
      "metadata": {
        "id": "DgWQCuS8oBDF",
        "colab_type": "code",
        "outputId": "2f7ec0ba-1c89-41f0-da1f-e93118598738",
        "colab": {
          "base_uri": "https://localhost:8080/",
          "height": 68
        }
      },
      "source": [
        "y_train.value_counts()"
      ],
      "execution_count": 0,
      "outputs": [
        {
          "output_type": "execute_result",
          "data": {
            "text/plain": [
              "1    290\n",
              "0    165\n",
              "Name: has_cancer, dtype: int64"
            ]
          },
          "metadata": {
            "tags": []
          },
          "execution_count": 113
        }
      ]
    },
    {
      "cell_type": "code",
      "metadata": {
        "id": "_qmdKnyJoDPz",
        "colab_type": "code",
        "outputId": "57a53ff4-f059-42a5-f97b-6d7340327a93",
        "colab": {
          "base_uri": "https://localhost:8080/",
          "height": 34
        }
      },
      "source": [
        "np.bincount(train_pred)"
      ],
      "execution_count": 0,
      "outputs": [
        {
          "output_type": "execute_result",
          "data": {
            "text/plain": [
              "array([165, 290])"
            ]
          },
          "metadata": {
            "tags": []
          },
          "execution_count": 118
        }
      ]
    },
    {
      "cell_type": "code",
      "metadata": {
        "id": "ha_W0scGoGd4",
        "colab_type": "code",
        "colab": {}
      },
      "source": [
        ""
      ],
      "execution_count": 0,
      "outputs": []
    }
  ]
}